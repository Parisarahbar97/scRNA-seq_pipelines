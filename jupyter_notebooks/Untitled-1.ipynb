{
 "cells": [
  {
   "cell_type": "code",
   "execution_count": 3,
   "id": "b4f14285",
   "metadata": {
    "vscode": {
     "languageId": "r"
    }
   },
   "outputs": [
    {
     "name": "stderr",
     "output_type": "stream",
     "text": [
      "Loading required package: SeuratObject\n",
      "\n",
      "Loading required package: sp\n",
      "\n",
      "‘SeuratObject’ was built under R 4.3.0 but the current version is\n",
      "4.3.3; it is recomended that you reinstall ‘SeuratObject’ as the ABI\n",
      "for R may have changed\n",
      "\n",
      "\n",
      "Attaching package: ‘SeuratObject’\n",
      "\n",
      "\n",
      "The following object is masked from ‘package:base’:\n",
      "\n",
      "    intersect\n",
      "\n",
      "\n",
      "\n",
      "Attaching package: ‘dplyr’\n",
      "\n",
      "\n",
      "The following objects are masked from ‘package:stats’:\n",
      "\n",
      "    filter, lag\n",
      "\n",
      "\n",
      "The following objects are masked from ‘package:base’:\n",
      "\n",
      "    intersect, setdiff, setequal, union\n",
      "\n",
      "\n"
     ]
    }
   ],
   "source": [
    "# final_process_seurat.R\n",
    "library(Seurat)\n",
    "library(dplyr)\n",
    "library(readr)"
   ]
  },
  {
   "cell_type": "code",
   "execution_count": 3,
   "id": "f8a24de1",
   "metadata": {
    "vscode": {
     "languageId": "r"
    }
   },
   "outputs": [],
   "source": [
    "# --- INPUT FILES ---\n",
    "seurat_path <- \"/data/files/merged_seuratobj.rds\"\n",
    "assignments_path <- \"/data/files/demuxlet_assignments.txt\"\n",
    "output_path <- \"/data/files/matched_seurat_demuxlet.rds\"\n"
   ]
  },
  {
   "cell_type": "code",
   "execution_count": 4,
   "id": "a4caf6f6",
   "metadata": {
    "vscode": {
     "languageId": "r"
    }
   },
   "outputs": [],
   "source": [
    "\n",
    "seurat_obj <- readRDS(seurat_path)"
   ]
  },
  {
   "cell_type": "code",
   "execution_count": 5,
   "id": "175c9a9d",
   "metadata": {
    "vscode": {
     "languageId": "r"
    }
   },
   "outputs": [],
   "source": [
    "assignments <- read.table(assignments_path, header = TRUE, sep = \"\", stringsAsFactors = FALSE, fill = TRUE, quote = \"\\\"\", check.names = FALSE)"
   ]
  },
  {
   "cell_type": "code",
   "execution_count": 6,
   "id": "547fb1d2",
   "metadata": {
    "vscode": {
     "languageId": "r"
    }
   },
   "outputs": [],
   "source": [
    "colnames(assignments) <- gsub(\"\\\"\", \"\", colnames(assignments))"
   ]
  },
  {
   "cell_type": "code",
   "execution_count": 7,
   "id": "5e65aee3",
   "metadata": {
    "vscode": {
     "languageId": "r"
    }
   },
   "outputs": [
    {
     "data": {
      "text/html": [
       "<style>\n",
       ".list-inline {list-style: none; margin:0; padding: 0}\n",
       ".list-inline>li {display: inline-block}\n",
       ".list-inline>li:not(:last-child)::after {content: \"\\00b7\"; padding: 0 .5ex}\n",
       "</style>\n",
       "<ol class=list-inline><li>'S6A_AAACCCAAGAATCTAG-1'</li><li>'S6A_AAACCCAAGACATCAA-1'</li><li>'S6A_AAACCCAAGATGGTCG-1'</li><li>'S6A_AAACCCAAGATGTAGT-1'</li><li>'S6A_AAACCCAAGCACTAGG-1'</li><li>'S6A_AAACCCAAGCCTATTG-1'</li></ol>\n"
      ],
      "text/latex": [
       "\\begin{enumerate*}\n",
       "\\item 'S6A\\_AAACCCAAGAATCTAG-1'\n",
       "\\item 'S6A\\_AAACCCAAGACATCAA-1'\n",
       "\\item 'S6A\\_AAACCCAAGATGGTCG-1'\n",
       "\\item 'S6A\\_AAACCCAAGATGTAGT-1'\n",
       "\\item 'S6A\\_AAACCCAAGCACTAGG-1'\n",
       "\\item 'S6A\\_AAACCCAAGCCTATTG-1'\n",
       "\\end{enumerate*}\n"
      ],
      "text/markdown": [
       "1. 'S6A_AAACCCAAGAATCTAG-1'\n",
       "2. 'S6A_AAACCCAAGACATCAA-1'\n",
       "3. 'S6A_AAACCCAAGATGGTCG-1'\n",
       "4. 'S6A_AAACCCAAGATGTAGT-1'\n",
       "5. 'S6A_AAACCCAAGCACTAGG-1'\n",
       "6. 'S6A_AAACCCAAGCCTATTG-1'\n",
       "\n",
       "\n"
      ],
      "text/plain": [
       "[1] \"S6A_AAACCCAAGAATCTAG-1\" \"S6A_AAACCCAAGACATCAA-1\" \"S6A_AAACCCAAGATGGTCG-1\"\n",
       "[4] \"S6A_AAACCCAAGATGTAGT-1\" \"S6A_AAACCCAAGCACTAGG-1\" \"S6A_AAACCCAAGCCTATTG-1\""
      ]
     },
     "metadata": {},
     "output_type": "display_data"
    },
    {
     "data": {
      "text/html": [
       "<table class=\"dataframe\">\n",
       "<caption>A data.frame: 6 × 3</caption>\n",
       "<thead>\n",
       "\t<tr><th></th><th scope=col>Barcode</th><th scope=col>Individual_Assignment</th><th scope=col>Demuxlet_droplet_type</th></tr>\n",
       "\t<tr><th></th><th scope=col>&lt;chr&gt;</th><th scope=col>&lt;chr&gt;</th><th scope=col>&lt;chr&gt;</th></tr>\n",
       "</thead>\n",
       "<tbody>\n",
       "\t<tr><th scope=row>1</th><td>S10A_AAACCCAAGCTGCGAA-1</td><td>N955/20</td><td>SNG</td></tr>\n",
       "\t<tr><th scope=row>2</th><td>S10A_AAACCCAAGGCTCTAT-1</td><td>N955/20</td><td>SNG</td></tr>\n",
       "\t<tr><th scope=row>3</th><td>S10A_AAACCCAAGTCAAGCG-1</td><td>N955/20</td><td>SNG</td></tr>\n",
       "\t<tr><th scope=row>4</th><td>S10A_AAACCCAAGTTTGCTG-1</td><td>N955/20</td><td>DBL</td></tr>\n",
       "\t<tr><th scope=row>5</th><td>S10A_AAACCCACAAGAGAGA-1</td><td>N955/20</td><td>SNG</td></tr>\n",
       "\t<tr><th scope=row>6</th><td>S10A_AAACCCACAATCGTCA-1</td><td>N969/17</td><td>SNG</td></tr>\n",
       "</tbody>\n",
       "</table>\n"
      ],
      "text/latex": [
       "A data.frame: 6 × 3\n",
       "\\begin{tabular}{r|lll}\n",
       "  & Barcode & Individual\\_Assignment & Demuxlet\\_droplet\\_type\\\\\n",
       "  & <chr> & <chr> & <chr>\\\\\n",
       "\\hline\n",
       "\t1 & S10A\\_AAACCCAAGCTGCGAA-1 & N955/20 & SNG\\\\\n",
       "\t2 & S10A\\_AAACCCAAGGCTCTAT-1 & N955/20 & SNG\\\\\n",
       "\t3 & S10A\\_AAACCCAAGTCAAGCG-1 & N955/20 & SNG\\\\\n",
       "\t4 & S10A\\_AAACCCAAGTTTGCTG-1 & N955/20 & DBL\\\\\n",
       "\t5 & S10A\\_AAACCCACAAGAGAGA-1 & N955/20 & SNG\\\\\n",
       "\t6 & S10A\\_AAACCCACAATCGTCA-1 & N969/17 & SNG\\\\\n",
       "\\end{tabular}\n"
      ],
      "text/markdown": [
       "\n",
       "A data.frame: 6 × 3\n",
       "\n",
       "| <!--/--> | Barcode &lt;chr&gt; | Individual_Assignment &lt;chr&gt; | Demuxlet_droplet_type &lt;chr&gt; |\n",
       "|---|---|---|---|\n",
       "| 1 | S10A_AAACCCAAGCTGCGAA-1 | N955/20 | SNG |\n",
       "| 2 | S10A_AAACCCAAGGCTCTAT-1 | N955/20 | SNG |\n",
       "| 3 | S10A_AAACCCAAGTCAAGCG-1 | N955/20 | SNG |\n",
       "| 4 | S10A_AAACCCAAGTTTGCTG-1 | N955/20 | DBL |\n",
       "| 5 | S10A_AAACCCACAAGAGAGA-1 | N955/20 | SNG |\n",
       "| 6 | S10A_AAACCCACAATCGTCA-1 | N969/17 | SNG |\n",
       "\n"
      ],
      "text/plain": [
       "  Barcode                 Individual_Assignment Demuxlet_droplet_type\n",
       "1 S10A_AAACCCAAGCTGCGAA-1 N955/20               SNG                  \n",
       "2 S10A_AAACCCAAGGCTCTAT-1 N955/20               SNG                  \n",
       "3 S10A_AAACCCAAGTCAAGCG-1 N955/20               SNG                  \n",
       "4 S10A_AAACCCAAGTTTGCTG-1 N955/20               DBL                  \n",
       "5 S10A_AAACCCACAAGAGAGA-1 N955/20               SNG                  \n",
       "6 S10A_AAACCCACAATCGTCA-1 N969/17               SNG                  "
      ]
     },
     "metadata": {},
     "output_type": "display_data"
    }
   ],
   "source": [
    "head(colnames(seurat_obj))\n",
    "head(assignments)"
   ]
  },
  {
   "cell_type": "code",
   "execution_count": 8,
   "id": "88f539d2",
   "metadata": {
    "vscode": {
     "languageId": "r"
    }
   },
   "outputs": [],
   "source": [
    "# Clean Seurat barcodes: remove prefix before last '_'\n",
    "seurat_obj$clean_barcode <- sub(\".*_\", \"\", colnames(seurat_obj))"
   ]
  },
  {
   "cell_type": "code",
   "execution_count": 9,
   "id": "664f4b54",
   "metadata": {
    "vscode": {
     "languageId": "r"
    }
   },
   "outputs": [],
   "source": [
    "# Clean assignment barcodes: remove prefix before '_'\n",
    "assignments$Clean_Barcode <- sub(\"^[^_]+_\", \"\", assignments$Barcode)"
   ]
  },
  {
   "cell_type": "code",
   "execution_count": 10,
   "id": "7f9f34e0",
   "metadata": {
    "vscode": {
     "languageId": "r"
    }
   },
   "outputs": [
    {
     "name": "stdout",
     "output_type": "stream",
     "text": [
      "Matched 693196 barcodes\n"
     ]
    }
   ],
   "source": [
    "# Match barcodes\n",
    "intersecting_barcodes <- intersect(seurat_obj$clean_barcode, assignments$Clean_Barcode)\n",
    "cat(\"Matched\", length(intersecting_barcodes), \"barcodes\\n\")"
   ]
  },
  {
   "cell_type": "code",
   "execution_count": 11,
   "id": "ff24b9c1",
   "metadata": {
    "vscode": {
     "languageId": "r"
    }
   },
   "outputs": [
    {
     "name": "stdout",
     "output_type": "stream",
     "text": [
      "Filtering Seurat object to common cells...\n"
     ]
    }
   ],
   "source": [
    "# Filter Seurat object to matched cells only\n",
    "cat(\"Filtering Seurat object to common cells...\\n\")\n",
    "cells_to_keep <- seurat_obj$clean_barcode %in% intersecting_barcodes\n",
    "seurat_obj <- seurat_obj[, cells_to_keep]"
   ]
  },
  {
   "cell_type": "code",
   "execution_count": 12,
   "id": "ee98014e",
   "metadata": {
    "vscode": {
     "languageId": "r"
    }
   },
   "outputs": [
    {
     "name": "stdout",
     "output_type": "stream",
     "text": [
      "Preparing Individual_ID vector...\n"
     ]
    }
   ],
   "source": [
    "# Create named vector for metadata\n",
    "cat(\"Preparing Individual_ID vector...\\n\")\n",
    "barcode_to_individual <- setNames(assignments$Individual_Assignment, assignments$Clean_Barcode)\n",
    "individual_ids <- barcode_to_individual[seurat_obj$clean_barcode]"
   ]
  },
  {
   "cell_type": "code",
   "execution_count": 13,
   "id": "753f8c27",
   "metadata": {
    "vscode": {
     "languageId": "r"
    }
   },
   "outputs": [],
   "source": [
    "\n",
    "# Name it with actual Seurat barcodes\n",
    "names(individual_ids) <- colnames(seurat_obj)"
   ]
  },
  {
   "cell_type": "code",
   "execution_count": 14,
   "id": "14b4684c",
   "metadata": {
    "vscode": {
     "languageId": "r"
    }
   },
   "outputs": [
    {
     "name": "stdout",
     "output_type": "stream",
     "text": [
      "Adding metadata...\n"
     ]
    }
   ],
   "source": [
    "# Add Individual_ID metadata (fast and safe)\n",
    "cat(\"Adding metadata...\\n\")\n",
    "seurat_obj <- AddMetaData(seurat_obj, metadata = individual_ids, col.name = \"Individual_ID\")\n"
   ]
  },
  {
   "cell_type": "code",
   "execution_count": 15,
   "id": "0a0b3afa",
   "metadata": {
    "vscode": {
     "languageId": "r"
    }
   },
   "outputs": [
    {
     "name": "stdout",
     "output_type": "stream",
     "text": [
      "NA entries in Individual_ID: 0 \n"
     ]
    }
   ],
   "source": [
    "# Sanity check: make sure there are no NAs\n",
    "na_count <- sum(is.na(seurat_obj$Individual_ID))\n",
    "cat(\"NA entries in Individual_ID:\", na_count, \"\\n\")\n",
    "if (na_count > 0) stop(\"Some cells are missing individual assignments.\")"
   ]
  },
  {
   "cell_type": "code",
   "execution_count": 16,
   "id": "1aec8937",
   "metadata": {
    "vscode": {
     "languageId": "r"
    }
   },
   "outputs": [],
   "source": [
    "# Drop the helper column\n",
    "seurat_obj$clean_barcode <- NULL"
   ]
  },
  {
   "cell_type": "code",
   "execution_count": 17,
   "id": "89449b12",
   "metadata": {
    "vscode": {
     "languageId": "r"
    }
   },
   "outputs": [
    {
     "name": "stdout",
     "output_type": "stream",
     "text": [
      "🔍 Verifying final Seurat object before saving...\n",
      "First few rows of metadata:\n",
      "                       Individual_ID\n",
      "S6A_AAACCCAAGAATCTAG-1       N366/21\n",
      "S6A_AAACCCAAGACATCAA-1      N1462/18\n",
      "S6A_AAACCCAAGATGGTCG-1      N1462/18\n",
      "S6A_AAACCCAAGATGTAGT-1       N366/21\n",
      "S6A_AAACCCAAGCACTAGG-1      N1462/18\n",
      "S6A_AAACCCAAGCCTATTG-1       N581/20\n",
      "Number of NA values in Individual_ID: 0 \n",
      "Number of unique individuals:\n",
      "[1] 62\n",
      "Counts per individual (top 10):\n",
      "\n",
      "N1001/08 N1014/16 N1024/14 N1066/18 N1084/22 N1146/20 N1174/19 N1216/06 \n",
      "     762    11204     5599    20077    13036      174    17680     6757 \n",
      "N1220/20 N1229/20 \n",
      "    3688    19497 \n"
     ]
    }
   ],
   "source": [
    "cat(\"🔍 Verifying final Seurat object before saving...\\n\")\n",
    "\n",
    "# 1. Preview metadata\n",
    "cat(\"First few rows of metadata:\\n\")\n",
    "print(head(seurat_obj@meta.data[, c(\"Individual_ID\"), drop = FALSE]))\n",
    "\n",
    "# 2. Check that number of Individual_IDs matches number of cells\n",
    "stopifnot(length(seurat_obj$Individual_ID) == ncol(seurat_obj))\n",
    "\n",
    "# 3. Check for any NA values (should be 0)\n",
    "na_count <- sum(is.na(seurat_obj$Individual_ID))\n",
    "cat(\"Number of NA values in Individual_ID:\", na_count, \"\\n\")\n",
    "if (na_count > 0) stop(\"❌ Error: NA values found in Individual_ID. Something went wrong.\")\n",
    "\n",
    "# 4. Show number of unique individuals\n",
    "cat(\"Number of unique individuals:\\n\")\n",
    "print(length(unique(seurat_obj$Individual_ID)))\n",
    "\n",
    "# 5. Show a frequency table of first few individuals\n",
    "cat(\"Counts per individual (top 10):\\n\")\n",
    "print(head(table(seurat_obj$Individual_ID), 10))"
   ]
  },
  {
   "cell_type": "code",
   "execution_count": null,
   "id": "b74a0623",
   "metadata": {
    "vscode": {
     "languageId": "r"
    }
   },
   "outputs": [
    {
     "data": {
      "text/html": [
       "<style>\n",
       ".list-inline {list-style: none; margin:0; padding: 0}\n",
       ".list-inline>li {display: inline-block}\n",
       ".list-inline>li:not(:last-child)::after {content: \"\\00b7\"; padding: 0 .5ex}\n",
       "</style>\n",
       "<ol class=list-inline><li>'orig.ident'</li><li>'nCount_originalexp'</li><li>'nFeature_originalexp'</li><li>'n_genes'</li><li>'label'</li><li>'Sample_ID'</li><li>'pct_counts_mt'</li><li>'n_counts'</li><li>'total_counts'</li><li>'batch'</li><li>'celltypist.Human_AdultAged_Hippocampus.conf'</li><li>'cell_type'</li><li>'n_genes_by_counts'</li><li>'total_counts_mt'</li><li>'scvi.global.1.0_leiden'</li><li>'scvi.unknown.1.0_leiden'</li><li>'scvi.global.0.5_leiden'</li><li>'scvi.unknown.0.5_leiden'</li><li>'Individual_ID'</li></ol>\n"
      ],
      "text/latex": [
       "\\begin{enumerate*}\n",
       "\\item 'orig.ident'\n",
       "\\item 'nCount\\_originalexp'\n",
       "\\item 'nFeature\\_originalexp'\n",
       "\\item 'n\\_genes'\n",
       "\\item 'label'\n",
       "\\item 'Sample\\_ID'\n",
       "\\item 'pct\\_counts\\_mt'\n",
       "\\item 'n\\_counts'\n",
       "\\item 'total\\_counts'\n",
       "\\item 'batch'\n",
       "\\item 'celltypist.Human\\_AdultAged\\_Hippocampus.conf'\n",
       "\\item 'cell\\_type'\n",
       "\\item 'n\\_genes\\_by\\_counts'\n",
       "\\item 'total\\_counts\\_mt'\n",
       "\\item 'scvi.global.1.0\\_leiden'\n",
       "\\item 'scvi.unknown.1.0\\_leiden'\n",
       "\\item 'scvi.global.0.5\\_leiden'\n",
       "\\item 'scvi.unknown.0.5\\_leiden'\n",
       "\\item 'Individual\\_ID'\n",
       "\\end{enumerate*}\n"
      ],
      "text/markdown": [
       "1. 'orig.ident'\n",
       "2. 'nCount_originalexp'\n",
       "3. 'nFeature_originalexp'\n",
       "4. 'n_genes'\n",
       "5. 'label'\n",
       "6. 'Sample_ID'\n",
       "7. 'pct_counts_mt'\n",
       "8. 'n_counts'\n",
       "9. 'total_counts'\n",
       "10. 'batch'\n",
       "11. 'celltypist.Human_AdultAged_Hippocampus.conf'\n",
       "12. 'cell_type'\n",
       "13. 'n_genes_by_counts'\n",
       "14. 'total_counts_mt'\n",
       "15. 'scvi.global.1.0_leiden'\n",
       "16. 'scvi.unknown.1.0_leiden'\n",
       "17. 'scvi.global.0.5_leiden'\n",
       "18. 'scvi.unknown.0.5_leiden'\n",
       "19. 'Individual_ID'\n",
       "\n",
       "\n"
      ],
      "text/plain": [
       " [1] \"orig.ident\"                                 \n",
       " [2] \"nCount_originalexp\"                         \n",
       " [3] \"nFeature_originalexp\"                       \n",
       " [4] \"n_genes\"                                    \n",
       " [5] \"label\"                                      \n",
       " [6] \"Sample_ID\"                                  \n",
       " [7] \"pct_counts_mt\"                              \n",
       " [8] \"n_counts\"                                   \n",
       " [9] \"total_counts\"                               \n",
       "[10] \"batch\"                                      \n",
       "[11] \"celltypist.Human_AdultAged_Hippocampus.conf\"\n",
       "[12] \"cell_type\"                                  \n",
       "[13] \"n_genes_by_counts\"                          \n",
       "[14] \"total_counts_mt\"                            \n",
       "[15] \"scvi.global.1.0_leiden\"                     \n",
       "[16] \"scvi.unknown.1.0_leiden\"                    \n",
       "[17] \"scvi.global.0.5_leiden\"                     \n",
       "[18] \"scvi.unknown.0.5_leiden\"                    \n",
       "[19] \"Individual_ID\"                              "
      ]
     },
     "metadata": {},
     "output_type": "display_data"
    }
   ],
   "source": [
    "\n",
    "\n",
    "colnames(seurat_obj@meta.data)"
   ]
  },
  {
   "cell_type": "code",
   "execution_count": 19,
   "id": "e763a57b",
   "metadata": {
    "vscode": {
     "languageId": "r"
    }
   },
   "outputs": [
    {
     "name": "stdout",
     "output_type": "stream",
     "text": [
      "✅ Final Seurat object saved successfully and is ready for eQTL analysis.\n"
     ]
    }
   ],
   "source": [
    "saveRDS(seurat_obj, output_path)\n",
    "cat(\"✅ Final Seurat object saved successfully and is ready for eQTL analysis.\\n\")"
   ]
  },
  {
   "cell_type": "code",
   "execution_count": 20,
   "id": "a710eadc",
   "metadata": {
    "vscode": {
     "languageId": "r"
    }
   },
   "outputs": [
    {
     "data": {
      "text/html": [
       "'originalexp'"
      ],
      "text/latex": [
       "'originalexp'"
      ],
      "text/markdown": [
       "'originalexp'"
      ],
      "text/plain": [
       "[1] \"originalexp\""
      ]
     },
     "metadata": {},
     "output_type": "display_data"
    },
    {
     "data": {
      "text/html": [
       "'originalexp'"
      ],
      "text/latex": [
       "'originalexp'"
      ],
      "text/markdown": [
       "'originalexp'"
      ],
      "text/plain": [
       "[1] \"originalexp\""
      ]
     },
     "metadata": {},
     "output_type": "display_data"
    }
   ],
   "source": [
    "Assays(seurat_obj)          \n",
    "DefaultAssay(seurat_obj)"
   ]
  },
  {
   "cell_type": "code",
   "execution_count": 21,
   "id": "5fe1341d",
   "metadata": {
    "vscode": {
     "languageId": "r"
    }
   },
   "outputs": [
    {
     "data": {
      "text/html": [
       "<style>\n",
       ".list-inline {list-style: none; margin:0; padding: 0}\n",
       ".list-inline>li {display: inline-block}\n",
       ".list-inline>li:not(:last-child)::after {content: \"\\00b7\"; padding: 0 .5ex}\n",
       "</style>\n",
       "<ol class=list-inline><li>'counts'</li><li>'data'</li></ol>\n"
      ],
      "text/latex": [
       "\\begin{enumerate*}\n",
       "\\item 'counts'\n",
       "\\item 'data'\n",
       "\\end{enumerate*}\n"
      ],
      "text/markdown": [
       "1. 'counts'\n",
       "2. 'data'\n",
       "\n",
       "\n"
      ],
      "text/plain": [
       "[1] \"counts\" \"data\"  "
      ]
     },
     "metadata": {},
     "output_type": "display_data"
    }
   ],
   "source": [
    "Layers(seurat_obj[[\"originalexp\"]])"
   ]
  }
 ],
 "metadata": {
  "kernelspec": {
   "display_name": "R",
   "language": "R",
   "name": "ir"
  },
  "language_info": {
   "codemirror_mode": "r",
   "file_extension": ".r",
   "mimetype": "text/x-r-source",
   "name": "R",
   "pygments_lexer": "r",
   "version": "4.3.3"
  }
 },
 "nbformat": 4,
 "nbformat_minor": 5
}
