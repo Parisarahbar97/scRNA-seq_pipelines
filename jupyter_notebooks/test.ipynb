{
 "cells": [
  {
   "cell_type": "code",
   "execution_count": null,
   "metadata": {
    "vscode": {
     "languageId": "r"
    }
   },
   "outputs": [
    {
     "ename": "",
     "evalue": "",
     "output_type": "error",
     "traceback": [
      "\u001b[1;31mFailed to start the Kernel 'R (Parisa Custom)'. \n",
      "\u001b[1;31mView Jupyter <a href='command:jupyter.viewOutput'>log</a> for further details. Connection file not found in kernelspec json args, /sw-eb/software/R/4.4.2-gfbf-2024a/bin/R --slave -e .libPaths('/rds/general/project/puklandmarkproject/live/Users/Parisa/R_lib'); IRkernel::main()"
     ]
    }
   ],
   "source": [
    ".libPaths(\"/rds/general/project/puklandmarkproject/live/Users/Parisa/R_lib\")"
   ]
  },
  {
   "cell_type": "code",
   "execution_count": null,
   "metadata": {
    "vscode": {
     "languageId": "r"
    }
   },
   "outputs": [],
   "source": []
  }
 ],
 "metadata": {
  "kernelspec": {
   "display_name": "R (Parisa Custom)",
   "language": "R",
   "name": "parisa_r_custom"
  },
  "language_info": {
   "name": "R"
  }
 },
 "nbformat": 4,
 "nbformat_minor": 2
}
