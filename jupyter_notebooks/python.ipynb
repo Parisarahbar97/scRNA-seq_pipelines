{
 "cells": [
  {
   "cell_type": "code",
   "execution_count": 2,
   "id": "c5a6c1b6",
   "metadata": {},
   "outputs": [
    {
     "name": "stdout",
     "output_type": "stream",
     "text": [
      "\n",
      "✅ Done! Converted 32 samples.\n",
      "✅ Samplesheet saved at: /rds/general/user/pr422/projects/puklandmarkproject/ephemeral/Parisa_scdownstream/scdown_old_samples/input/samplesheet_converted_remapped_h5ad_epilep.csv\n"
     ]
    }
   ],
   "source": [
    "import scanpy as sc\n",
    "import pandas as pd\n",
    "import os\n",
    "from pathlib import Path\n",
    "\n",
    "# ========== CONFIGURE PATHS ==========\n",
    "# Base directory where your mapped samples are\n",
    "base_dir = Path(\"/rds/general/user/pr422/projects/puklandmarkproject/ephemeral/alex/mapping_outs\")\n",
    "\n",
    "# Output directory for saving converted h5ad files\n",
    "output_dir = Path(\"/rds/general/user/pr422/projects/puklandmarkproject/ephemeral/Parisa_scdownstream/scdown_old_samples/h5ad_converted\")\n",
    "output_dir.mkdir(parents=True, exist_ok=True)\n",
    "\n",
    "# Path to save the samplesheet CSV\n",
    "samplesheet_path = Path(\"/rds/general/user/pr422/projects/puklandmarkproject/ephemeral/Parisa_scdownstream/scdown_old_samples/input/samplesheet_converted_remapped_h5ad_epilep.csv\")\n",
    "samplesheet_path.parent.mkdir(parents=True, exist_ok=True)\n",
    "\n",
    "# ========== START PROCESSING ==========\n",
    "\n",
    "samples = [d for d in base_dir.iterdir() if d.is_dir() and d.name.endswith(\"_mapped\")]\n",
    "samples = sorted(samples)\n",
    "\n",
    "records = []\n",
    "\n",
    "for sample_path in samples:\n",
    "    sample_id = sample_path.name.replace(\"_mapped\", \"\")\n",
    "    outs_path = sample_path / \"outs\"\n",
    "    \n",
    "    filtered_matrix_dir = outs_path / \"filtered_feature_bc_matrix\"\n",
    "    raw_matrix_dir = outs_path / \"raw_feature_bc_matrix\"\n",
    "\n",
    "    if not filtered_matrix_dir.exists() or not raw_matrix_dir.exists():\n",
    "        print(f\"Warning: Missing filtered or raw matrix for sample {sample_id}\")\n",
    "        continue\n",
    "\n",
    "    # --------- Convert filtered\n",
    "    filtered_adata = sc.read_10x_mtx(\n",
    "        str(filtered_matrix_dir),\n",
    "        var_names=\"gene_symbols\",\n",
    "        cache=False\n",
    "    )\n",
    "    filtered_outfile = output_dir / f\"{sample_id}_filtered.h5ad\"\n",
    "    filtered_adata.write_h5ad(str(filtered_outfile))\n",
    "\n",
    "    # --------- Convert raw\n",
    "    raw_adata = sc.read_10x_mtx(\n",
    "        str(raw_matrix_dir),\n",
    "        var_names=\"gene_symbols\",\n",
    "        cache=False\n",
    "    )\n",
    "    raw_outfile = output_dir / f\"{sample_id}_raw.h5ad\"\n",
    "    raw_adata.write_h5ad(str(raw_outfile))\n",
    "\n",
    "    # --------- Save to records\n",
    "    records.append({\n",
    "        \"sample\": sample_id,\n",
    "        \"filtered\": str(filtered_outfile),\n",
    "        \"unfiltered\": str(raw_outfile)\n",
    "    })\n",
    "\n",
    "# ========== WRITE SAMPLE SHEET ==========\n",
    "\n",
    "samplesheet_df = pd.DataFrame(records, columns=[\"sample\", \"filtered\", \"unfiltered\"])\n",
    "samplesheet_df.to_csv(samplesheet_path, index=False)\n",
    "\n",
    "print(f\"\\n✅ Done! Converted {len(records)} samples.\")\n",
    "print(f\"✅ Samplesheet saved at: {samplesheet_path}\")"
   ]
  },
  {
   "cell_type": "code",
   "execution_count": 1,
   "id": "70d5cd6d",
   "metadata": {},
   "outputs": [
    {
     "name": "stdout",
     "output_type": "stream",
     "text": [
      "(33244, 38606) (3694957, 38606)\n",
      "True\n",
      "Index(['S16B_AAACCCAAGATCCGAG-1', 'S16B_AAACCCAAGCCGGATA-1',\n",
      "       'S16B_AAACCCAAGCTCGGCT-1', 'S16B_AAACCCAAGCTCTATG-1',\n",
      "       'S16B_AAACCCAAGGTCTTTG-1'],\n",
      "      dtype='object')\n",
      "Index(['S16B_AAACCCAAGAAACACT-1', 'S16B_AAACCCAAGAAACCAT-1',\n",
      "       'S16B_AAACCCAAGAAACCCA-1', 'S16B_AAACCCAAGAAACCCG-1',\n",
      "       'S16B_AAACCCAAGAAACTAC-1'],\n",
      "      dtype='object')\n",
      "                        batch    label sample\n",
      "S16B_AAACCCAAGATCCGAG-1  S16B  unknown   S16B\n",
      "S16B_AAACCCAAGCCGGATA-1  S16B  unknown   S16B\n",
      "S16B_AAACCCAAGCTCGGCT-1  S16B  unknown   S16B\n",
      "S16B_AAACCCAAGCTCTATG-1  S16B  unknown   S16B\n",
      "S16B_AAACCCAAGGTCTTTG-1  S16B  unknown   S16B\n",
      "                        batch    label sample\n",
      "S16B_AAACCCAAGAAACACT-1  S16B  unknown   S16B\n",
      "S16B_AAACCCAAGAAACCAT-1  S16B  unknown   S16B\n",
      "S16B_AAACCCAAGAAACCCA-1  S16B  unknown   S16B\n",
      "S16B_AAACCCAAGAAACCCG-1  S16B  unknown   S16B\n",
      "S16B_AAACCCAAGAAACTAC-1  S16B  unknown   S16B\n"
     ]
    }
   ],
   "source": [
    "import scanpy as sc\n",
    "\n",
    "# Load filtered\n",
    "filtered = sc.read_h5ad(\"/rds/general/user/pr422/ephemeral/NEXTFLOW/86/d31d70dcec37754f78089436649d87/S16B_filtered_unified.h5ad\")\n",
    "\n",
    "# Load unfiltered\n",
    "unfiltered = sc.read_h5ad(\"/rds/general/user/pr422/ephemeral/NEXTFLOW/e0/53d3275d8a9323ef197a0a12ffe5d0/S16B_unfiltered_unified.h5ad\")\n",
    "\n",
    "# Check dimensions\n",
    "print(filtered.shape, unfiltered.shape)\n",
    "\n",
    "# Check gene names match exactly\n",
    "print(filtered.var_names.equals(unfiltered.var_names))\n",
    "\n",
    "# Check cells/barcodes (should differ by filtering)\n",
    "print(filtered.obs_names[:5])\n",
    "print(unfiltered.obs_names[:5])\n",
    "\n",
    "# Verify metadata columns\n",
    "print(filtered.obs.head())\n",
    "print(unfiltered.obs.head())\n"
   ]
  },
  {
   "cell_type": "code",
   "execution_count": 3,
   "id": "58001a87",
   "metadata": {},
   "outputs": [
    {
     "name": "stdout",
     "output_type": "stream",
     "text": [
      "  sample                                           filtered  \\\n",
      "0   S10A  /rds/general/user/pr422/projects/puklandmarkpr...   \n",
      "1   S11A  /rds/general/user/pr422/projects/puklandmarkpr...   \n",
      "2   S11B  /rds/general/user/pr422/projects/puklandmarkpr...   \n",
      "3   S12B  /rds/general/user/pr422/projects/puklandmarkpr...   \n",
      "4   S13A  /rds/general/user/pr422/projects/puklandmarkpr...   \n",
      "\n",
      "                                          unfiltered  \n",
      "0  /rds/general/user/pr422/projects/puklandmarkpr...  \n",
      "1  /rds/general/user/pr422/projects/puklandmarkpr...  \n",
      "2  /rds/general/user/pr422/projects/puklandmarkpr...  \n",
      "3  /rds/general/user/pr422/projects/puklandmarkpr...  \n",
      "4  /rds/general/user/pr422/projects/puklandmarkpr...  \n"
     ]
    }
   ],
   "source": [
    "import pandas as pd\n",
    "samplesheet = pd.read_csv(\"/rds/general/user/pr422/projects/puklandmarkproject/ephemeral/Parisa_scdownstream/scdown_old_samples/input/samplesheet_converted_remapped_h5ad_epilep.csv\")\n",
    "print(samplesheet.head())\n",
    "\n",
    "# Check that paths exist and match sample IDs\n",
    "for idx, row in samplesheet.iterrows():\n",
    "    assert row[\"sample\"] in row[\"filtered\"], f\"Filtered mismatch: {row['sample']}\"\n",
    "    assert row[\"sample\"] in row[\"unfiltered\"], f\"Unfiltered mismatch: {row['sample']}\""
   ]
  },
  {
   "cell_type": "code",
   "execution_count": 5,
   "id": "bffc5066",
   "metadata": {},
   "outputs": [
    {
     "name": "stdout",
     "output_type": "stream",
     "text": [
      "✅ filtered file for S10A loaded successfully. Shape: (23600, 38606)\n",
      "✅ unfiltered file for S10A loaded successfully. Shape: (3933123, 38606)\n",
      "✅ filtered file for S11A loaded successfully. Shape: (25165, 38606)\n",
      "✅ unfiltered file for S11A loaded successfully. Shape: (3904139, 38606)\n",
      "✅ filtered file for S11B loaded successfully. Shape: (21620, 38606)\n",
      "✅ unfiltered file for S11B loaded successfully. Shape: (3192095, 38606)\n",
      "✅ filtered file for S12B loaded successfully. Shape: (23715, 38606)\n",
      "✅ unfiltered file for S12B loaded successfully. Shape: (3325816, 38606)\n",
      "✅ filtered file for S13A loaded successfully. Shape: (20068, 38606)\n",
      "✅ unfiltered file for S13A loaded successfully. Shape: (3509689, 38606)\n",
      "✅ filtered file for S13B loaded successfully. Shape: (29992, 38606)\n",
      "✅ unfiltered file for S13B loaded successfully. Shape: (4048065, 38606)\n",
      "✅ filtered file for S14A loaded successfully. Shape: (19362, 38606)\n",
      "✅ unfiltered file for S14A loaded successfully. Shape: (3644569, 38606)\n",
      "✅ filtered file for S14B loaded successfully. Shape: (23013, 38606)\n",
      "✅ unfiltered file for S14B loaded successfully. Shape: (3599948, 38606)\n",
      "✅ filtered file for S15A loaded successfully. Shape: (10399, 38606)\n",
      "✅ unfiltered file for S15A loaded successfully. Shape: (3531071, 38606)\n",
      "✅ filtered file for S16A loaded successfully. Shape: (31693, 38606)\n",
      "✅ unfiltered file for S16A loaded successfully. Shape: (3943618, 38606)\n",
      "✅ filtered file for S16B loaded successfully. Shape: (33244, 38606)\n",
      "✅ unfiltered file for S16B loaded successfully. Shape: (3694957, 38606)\n",
      "✅ filtered file for S17B loaded successfully. Shape: (32156, 38606)\n",
      "✅ unfiltered file for S17B loaded successfully. Shape: (3438604, 38606)\n",
      "✅ filtered file for S18B loaded successfully. Shape: (21013, 38606)\n",
      "✅ unfiltered file for S18B loaded successfully. Shape: (3184118, 38606)\n",
      "✅ filtered file for S19A loaded successfully. Shape: (152, 38606)\n",
      "✅ unfiltered file for S19A loaded successfully. Shape: (3501251, 38606)\n",
      "✅ filtered file for S19B loaded successfully. Shape: (7441, 38606)\n",
      "✅ unfiltered file for S19B loaded successfully. Shape: (2820514, 38606)\n",
      "✅ filtered file for S1A loaded successfully. Shape: (27095, 38606)\n",
      "✅ unfiltered file for S1A loaded successfully. Shape: (3729022, 38606)\n",
      "✅ filtered file for S1B loaded successfully. Shape: (27194, 38606)\n",
      "✅ unfiltered file for S1B loaded successfully. Shape: (3821154, 38606)\n",
      "✅ filtered file for S2A loaded successfully. Shape: (36671, 38606)\n",
      "✅ unfiltered file for S2A loaded successfully. Shape: (3122704, 38606)\n",
      "✅ filtered file for S2B loaded successfully. Shape: (31795, 38606)\n",
      "✅ unfiltered file for S2B loaded successfully. Shape: (3075215, 38606)\n",
      "✅ filtered file for S3A loaded successfully. Shape: (23922, 38606)\n",
      "✅ unfiltered file for S3A loaded successfully. Shape: (3241058, 38606)\n",
      "✅ filtered file for S4A loaded successfully. Shape: (25840, 38606)\n",
      "✅ unfiltered file for S4A loaded successfully. Shape: (3979043, 38606)\n",
      "✅ filtered file for S4B loaded successfully. Shape: (35475, 38606)\n",
      "✅ unfiltered file for S4B loaded successfully. Shape: (3965503, 38606)\n",
      "✅ filtered file for S5A loaded successfully. Shape: (20959, 38606)\n",
      "✅ unfiltered file for S5A loaded successfully. Shape: (3867063, 38606)\n",
      "✅ filtered file for S5B loaded successfully. Shape: (23634, 38606)\n",
      "✅ unfiltered file for S5B loaded successfully. Shape: (3870156, 38606)\n",
      "✅ filtered file for S6A loaded successfully. Shape: (28832, 38606)\n",
      "✅ unfiltered file for S6A loaded successfully. Shape: (3991629, 38606)\n",
      "✅ filtered file for S6B loaded successfully. Shape: (22756, 38606)\n",
      "✅ unfiltered file for S6B loaded successfully. Shape: (3718059, 38606)\n",
      "✅ filtered file for S7A loaded successfully. Shape: (33073, 38606)\n",
      "✅ unfiltered file for S7A loaded successfully. Shape: (3918271, 38606)\n",
      "✅ filtered file for S7B loaded successfully. Shape: (26686, 38606)\n",
      "✅ unfiltered file for S7B loaded successfully. Shape: (3264504, 38606)\n",
      "✅ filtered file for S8A loaded successfully. Shape: (25676, 38606)\n",
      "✅ unfiltered file for S8A loaded successfully. Shape: (3549860, 38606)\n",
      "✅ filtered file for S8B loaded successfully. Shape: (24982, 38606)\n",
      "✅ unfiltered file for S8B loaded successfully. Shape: (3507196, 38606)\n",
      "✅ filtered file for S9A loaded successfully. Shape: (22184, 38606)\n",
      "✅ unfiltered file for S9A loaded successfully. Shape: (4086607, 38606)\n",
      "✅ filtered file for S9B loaded successfully. Shape: (27721, 38606)\n",
      "✅ unfiltered file for S9B loaded successfully. Shape: (3816341, 38606)\n"
     ]
    }
   ],
   "source": [
    "import scanpy as sc\n",
    "import pandas as pd\n",
    "import os\n",
    "\n",
    "samplesheet = pd.read_csv(\"/rds/general/user/pr422/projects/puklandmarkproject/ephemeral/Parisa_scdownstream/scdown_old_samples/input/samplesheet_converted_remapped_h5ad_epilep.csv\")\n",
    "\n",
    "for idx, row in samplesheet.iterrows():\n",
    "    for path_type in ['filtered', 'unfiltered']:\n",
    "        path = row[path_type]\n",
    "        sample = row['sample']\n",
    "        if not os.path.exists(path):\n",
    "            print(f\"❌ {path_type} file for {sample} does NOT exist: {path}\")\n",
    "            continue\n",
    "        try:\n",
    "            adata = sc.read_h5ad(path)\n",
    "            print(f\"✅ {path_type} file for {sample} loaded successfully. Shape: {adata.shape}\")\n",
    "        except Exception as e:\n",
    "            print(f\"❌ {path_type} file for {sample} failed to load: {path}, Error: {e}\")"
   ]
  },
  {
   "cell_type": "code",
   "execution_count": 6,
   "id": "b3487c5a",
   "metadata": {},
   "outputs": [
    {
     "name": "stdout",
     "output_type": "stream",
     "text": [
      "Filtered barcodes (first 5): Index(['AAACCCAAGATCCGAG-1', 'AAACCCAAGCCGGATA-1', 'AAACCCAAGCTCGGCT-1',\n",
      "       'AAACCCAAGCTCTATG-1', 'AAACCCAAGGTCTTTG-1'],\n",
      "      dtype='object')\n",
      "Unfiltered barcodes (first 5): Index(['AAACCCAAGAAACACT-1', 'AAACCCAAGAAACCAT-1', 'AAACCCAAGAAACCCA-1',\n",
      "       'AAACCCAAGAAACCCG-1', 'AAACCCAAGAAACTAC-1'],\n",
      "      dtype='object')\n",
      "Common barcodes: 33244\n"
     ]
    }
   ],
   "source": [
    "import scanpy as sc\n",
    "\n",
    "filtered = sc.read_h5ad(\"/rds/general/user/pr422/projects/puklandmarkproject/ephemeral/Parisa_scdownstream/scdown_old_samples/h5ad_converted/S16B_filtered.h5ad\")\n",
    "unfiltered = sc.read_h5ad(\"/rds/general/user/pr422/projects/puklandmarkproject/ephemeral/Parisa_scdownstream/scdown_old_samples/h5ad_converted/S16B_raw.h5ad\")\n",
    "\n",
    "print(\"Filtered barcodes (first 5):\", filtered.obs_names[:5])\n",
    "print(\"Unfiltered barcodes (first 5):\", unfiltered.obs_names[:5])\n",
    "\n",
    "# Check intersection explicitly\n",
    "print(\"Common barcodes:\", len(set(filtered.obs_names) & set(unfiltered.obs_names)))"
   ]
  },
  {
   "cell_type": "code",
   "execution_count": 7,
   "id": "9844c7cf",
   "metadata": {},
   "outputs": [
    {
     "name": "stdout",
     "output_type": "stream",
     "text": [
      "Filtered barcodes (first 5): Index(['AAACCCAAGAAGCCAC-1', 'AAACCCAAGACAGTCG-1', 'AAACCCAAGACGCCCT-1',\n",
      "       'AAACCCAAGAGTATAC-1', 'AAACCCAAGCCTTGAT-1'],\n",
      "      dtype='object')\n",
      "Unfiltered barcodes (first 5): Index(['AAACCCAAGAAACACT-1', 'AAACCCAAGAAACCAT-1', 'AAACCCAAGAAACCCA-1',\n",
      "       'AAACCCAAGAAACCTG-1', 'AAACCCAAGAAACTAC-1'],\n",
      "      dtype='object')\n",
      "Common barcodes: 36671\n"
     ]
    }
   ],
   "source": [
    "import scanpy as sc\n",
    "\n",
    "filtered = sc.read_h5ad(\"/rds/general/user/pr422/projects/puklandmarkproject/ephemeral/Parisa_scdownstream/scdown_old_samples/h5ad_converted/S2A_filtered.h5ad\")\n",
    "unfiltered = sc.read_h5ad(\"/rds/general/user/pr422/projects/puklandmarkproject/ephemeral/Parisa_scdownstream/scdown_old_samples/h5ad_converted/S2A_raw.h5ad\")\n",
    "\n",
    "print(\"Filtered barcodes (first 5):\", filtered.obs_names[:5])\n",
    "print(\"Unfiltered barcodes (first 5):\", unfiltered.obs_names[:5])\n",
    "\n",
    "# Check intersection explicitly\n",
    "print(\"Common barcodes:\", len(set(filtered.obs_names) & set(unfiltered.obs_names)))"
   ]
  },
  {
   "cell_type": "code",
   "execution_count": 8,
   "id": "72d0f08b",
   "metadata": {},
   "outputs": [],
   "source": [
    "import scanpy as sc\n",
    "\n",
    "# Convert filtered data\n",
    "adata_filtered = sc.read_10x_mtx(\n",
    "    \"/rds/general/user/pr422/projects/puklandmarkproject/ephemeral/alex/mapping_outs/S16B_mapped/outs/filtered_feature_bc_matrix\",\n",
    "    var_names='gene_symbols',\n",
    "    cache=False\n",
    ")\n",
    "adata_filtered.write_h5ad(\"/rds/general/user/pr422/projects/puklandmarkproject/ephemeral/Parisa_scdownstream/scdown_old_samples/test_h5ad_files/S16B_filtered.h5ad\")\n",
    "\n",
    "# Convert unfiltered data\n",
    "adata_unfiltered = sc.read_10x_mtx(\n",
    "    \"/rds/general/user/pr422/projects/puklandmarkproject/ephemeral/alex/mapping_outs/S16B_mapped/outs/raw_feature_bc_matrix\",\n",
    "    var_names='gene_symbols',\n",
    "    cache=False\n",
    ")\n",
    "adata_unfiltered.write_h5ad(\"/rds/general/user/pr422/projects/puklandmarkproject/ephemeral/Parisa_scdownstream/scdown_old_samples/test_h5ad_files/S16B_raw.h5ad\")"
   ]
  },
  {
   "cell_type": "code",
   "execution_count": 9,
   "id": "44fa2621",
   "metadata": {},
   "outputs": [
    {
     "name": "stdout",
     "output_type": "stream",
     "text": [
      "Filtered barcodes (first 5): Index(['AAACCCAAGATCCGAG-1', 'AAACCCAAGCCGGATA-1', 'AAACCCAAGCTCGGCT-1',\n",
      "       'AAACCCAAGCTCTATG-1', 'AAACCCAAGGTCTTTG-1'],\n",
      "      dtype='object')\n",
      "Unfiltered barcodes (first 5): Index(['AAACCCAAGAAACACT-1', 'AAACCCAAGAAACCAT-1', 'AAACCCAAGAAACCCA-1',\n",
      "       'AAACCCAAGAAACCCG-1', 'AAACCCAAGAAACTAC-1'],\n",
      "      dtype='object')\n",
      "Common barcodes: 33244\n"
     ]
    }
   ],
   "source": [
    "import scanpy as sc\n",
    "\n",
    "filtered = sc.read_h5ad(\"//rds/general/user/pr422/projects/puklandmarkproject/ephemeral/Parisa_scdownstream/scdown_old_samples/test_h5ad_files/S16B_filtered.h5ad\")\n",
    "unfiltered = sc.read_h5ad(\"/rds/general/user/pr422/projects/puklandmarkproject/ephemeral/Parisa_scdownstream/scdown_old_samples/test_h5ad_files/S16B_raw.h5ad\")\n",
    "\n",
    "print(\"Filtered barcodes (first 5):\", filtered.obs_names[:5])\n",
    "print(\"Unfiltered barcodes (first 5):\", unfiltered.obs_names[:5])\n",
    "\n",
    "# Check intersection explicitly\n",
    "print(\"Common barcodes:\", len(set(filtered.obs_names) & set(unfiltered.obs_names)))"
   ]
  },
  {
   "cell_type": "code",
   "execution_count": 1,
   "id": "0fc24210",
   "metadata": {},
   "outputs": [
    {
     "name": "stdout",
     "output_type": "stream",
     "text": [
      "Done! Samplesheet saved at: /rds/general/user/pr422/projects/puklandmarkproject/ephemeral/Parisa_scdownstream/scdown_old_samples/h5ad_converted/samplesheet_corrected.csv\n"
     ]
    }
   ],
   "source": [
    "import scanpy as sc\n",
    "import pandas as pd\n",
    "import os\n",
    "\n",
    "# Directory containing the mapped samples\n",
    "input_dir = \"/rds/general/user/pr422/projects/puklandmarkproject/ephemeral/alex/mapping_outs\"\n",
    "\n",
    "# Output directory for h5ad files\n",
    "output_dir = \"/rds/general/user/pr422/projects/puklandmarkproject/ephemeral/Parisa_scdownstream/scdown_old_samples/h5ad_converted\"\n",
    "os.makedirs(output_dir, exist_ok=True)\n",
    "\n",
    "samples = [s for s in os.listdir(input_dir) if s.endswith('_mapped')]\n",
    "\n",
    "# Container for samplesheet entries\n",
    "samplesheet_entries = []\n",
    "\n",
    "for sample in samples:\n",
    "    sample_id = sample.replace(\"_mapped\", \"\")\n",
    "\n",
    "    # Paths to filtered and raw feature matrices\n",
    "    filtered_path = os.path.join(input_dir, sample, \"outs\", \"filtered_feature_bc_matrix\")\n",
    "    raw_path = os.path.join(input_dir, sample, \"outs\", \"raw_feature_bc_matrix\")\n",
    "\n",
    "    # Read filtered data\n",
    "    adata_filtered = sc.read_10x_mtx(filtered_path, var_names=\"gene_symbols\", cache=False)\n",
    "    adata_filtered.obs_names = [f\"{sample_id}_{bc}\" for bc in adata_filtered.obs_names]\n",
    "    adata_filtered.obs[\"sample\"] = sample_id\n",
    "\n",
    "    # Save filtered h5ad\n",
    "    filtered_h5ad_path = os.path.join(output_dir, f\"{sample_id}_filtered.h5ad\")\n",
    "    adata_filtered.write(filtered_h5ad_path)\n",
    "\n",
    "    # Read raw data\n",
    "    adata_raw = sc.read_10x_mtx(raw_path, var_names=\"gene_symbols\", cache=False)\n",
    "    adata_raw.obs_names = [f\"{sample_id}_{bc}\" for bc in adata_raw.obs_names]\n",
    "    adata_raw.obs[\"sample\"] = sample_id\n",
    "\n",
    "    # Save raw h5ad\n",
    "    raw_h5ad_path = os.path.join(output_dir, f\"{sample_id}_raw.h5ad\")\n",
    "    adata_raw.write(raw_h5ad_path)\n",
    "\n",
    "    # Add to samplesheet\n",
    "    samplesheet_entries.append({\n",
    "        \"sample\": sample_id,\n",
    "        \"filtered\": filtered_h5ad_path,\n",
    "        \"unfiltered\": raw_h5ad_path\n",
    "    })\n",
    "\n",
    "# Create and save samplesheet\n",
    "samplesheet = pd.DataFrame(samplesheet_entries)\n",
    "samplesheet.to_csv(os.path.join(output_dir, \"samplesheet_converted.csv\"), index=False)\n",
    "\n",
    "print(\"Done! Samplesheet saved at:\", os.path.join(output_dir, \"samplesheet_corrected.csv\"))\n"
   ]
  },
  {
   "cell_type": "code",
   "execution_count": 2,
   "id": "8078f14e",
   "metadata": {},
   "outputs": [
    {
     "name": "stdout",
     "output_type": "stream",
     "text": [
      "\n",
      "Checking S17B:\n",
      "✅ All 32156 filtered barcodes are present in the unfiltered dataset.\n",
      "✅ Gene names match (38606 genes).\n",
      "\n",
      "Checking S13A:\n",
      "✅ All 20068 filtered barcodes are present in the unfiltered dataset.\n",
      "✅ Gene names match (38606 genes).\n",
      "\n",
      "Checking S1B:\n",
      "✅ All 27194 filtered barcodes are present in the unfiltered dataset.\n",
      "✅ Gene names match (38606 genes).\n",
      "\n",
      "Checking S10A:\n",
      "✅ All 23600 filtered barcodes are present in the unfiltered dataset.\n",
      "✅ Gene names match (38606 genes).\n",
      "\n",
      "Checking S8B:\n",
      "✅ All 24982 filtered barcodes are present in the unfiltered dataset.\n",
      "✅ Gene names match (38606 genes).\n",
      "\n",
      "Checking S11A:\n",
      "✅ All 25165 filtered barcodes are present in the unfiltered dataset.\n",
      "✅ Gene names match (38606 genes).\n",
      "\n",
      "Checking S4A:\n",
      "✅ All 25840 filtered barcodes are present in the unfiltered dataset.\n",
      "✅ Gene names match (38606 genes).\n",
      "\n",
      "Checking S4B:\n",
      "✅ All 35475 filtered barcodes are present in the unfiltered dataset.\n",
      "✅ Gene names match (38606 genes).\n",
      "\n",
      "Checking S2A:\n",
      "✅ All 36671 filtered barcodes are present in the unfiltered dataset.\n",
      "✅ Gene names match (38606 genes).\n",
      "\n",
      "Checking S15A:\n",
      "✅ All 10399 filtered barcodes are present in the unfiltered dataset.\n",
      "✅ Gene names match (38606 genes).\n",
      "\n",
      "Checking S9B:\n",
      "✅ All 27721 filtered barcodes are present in the unfiltered dataset.\n",
      "✅ Gene names match (38606 genes).\n",
      "\n",
      "Checking S9A:\n",
      "✅ All 22184 filtered barcodes are present in the unfiltered dataset.\n",
      "✅ Gene names match (38606 genes).\n",
      "\n",
      "Checking S11B:\n",
      "✅ All 21620 filtered barcodes are present in the unfiltered dataset.\n",
      "✅ Gene names match (38606 genes).\n",
      "\n",
      "Checking S5B:\n",
      "✅ All 23634 filtered barcodes are present in the unfiltered dataset.\n",
      "✅ Gene names match (38606 genes).\n",
      "\n",
      "Checking S19B:\n",
      "✅ All 7441 filtered barcodes are present in the unfiltered dataset.\n",
      "✅ Gene names match (38606 genes).\n",
      "\n",
      "Checking S5A:\n",
      "✅ All 20959 filtered barcodes are present in the unfiltered dataset.\n",
      "✅ Gene names match (38606 genes).\n",
      "\n",
      "Checking S6A:\n",
      "✅ All 28832 filtered barcodes are present in the unfiltered dataset.\n",
      "✅ Gene names match (38606 genes).\n",
      "\n",
      "Checking S7A:\n",
      "✅ All 33073 filtered barcodes are present in the unfiltered dataset.\n",
      "✅ Gene names match (38606 genes).\n",
      "\n",
      "Checking S12B:\n",
      "✅ All 23715 filtered barcodes are present in the unfiltered dataset.\n",
      "✅ Gene names match (38606 genes).\n",
      "\n",
      "Checking S6B:\n",
      "✅ All 22756 filtered barcodes are present in the unfiltered dataset.\n",
      "✅ Gene names match (38606 genes).\n",
      "\n",
      "Checking S16B:\n",
      "✅ All 33244 filtered barcodes are present in the unfiltered dataset.\n",
      "✅ Gene names match (38606 genes).\n",
      "\n",
      "Checking S7B:\n",
      "✅ All 26686 filtered barcodes are present in the unfiltered dataset.\n",
      "✅ Gene names match (38606 genes).\n",
      "\n",
      "Checking S8A:\n",
      "✅ All 25676 filtered barcodes are present in the unfiltered dataset.\n",
      "✅ Gene names match (38606 genes).\n",
      "\n",
      "Checking S18B:\n",
      "✅ All 21013 filtered barcodes are present in the unfiltered dataset.\n",
      "✅ Gene names match (38606 genes).\n",
      "\n",
      "Checking S19A:\n",
      "✅ All 152 filtered barcodes are present in the unfiltered dataset.\n",
      "✅ Gene names match (38606 genes).\n",
      "\n",
      "Checking S2B:\n",
      "✅ All 31795 filtered barcodes are present in the unfiltered dataset.\n",
      "✅ Gene names match (38606 genes).\n",
      "\n",
      "Checking S13B:\n",
      "✅ All 29992 filtered barcodes are present in the unfiltered dataset.\n",
      "✅ Gene names match (38606 genes).\n",
      "\n",
      "Checking S3A:\n",
      "✅ All 23922 filtered barcodes are present in the unfiltered dataset.\n",
      "✅ Gene names match (38606 genes).\n",
      "\n",
      "Checking S14B:\n",
      "✅ All 23013 filtered barcodes are present in the unfiltered dataset.\n",
      "✅ Gene names match (38606 genes).\n",
      "\n",
      "Checking S16A:\n",
      "✅ All 31693 filtered barcodes are present in the unfiltered dataset.\n",
      "✅ Gene names match (38606 genes).\n",
      "\n",
      "Checking S1A:\n",
      "✅ All 27095 filtered barcodes are present in the unfiltered dataset.\n",
      "✅ Gene names match (38606 genes).\n",
      "\n",
      "Checking S14A:\n",
      "✅ All 19362 filtered barcodes are present in the unfiltered dataset.\n",
      "✅ Gene names match (38606 genes).\n",
      "\n",
      "🎉 All files passed validation checks!\n"
     ]
    }
   ],
   "source": [
    "import scanpy as sc\n",
    "import pandas as pd\n",
    "import os\n",
    "\n",
    "samplesheet = \"/rds/general/user/pr422/projects/puklandmarkproject/ephemeral/Parisa_scdownstream/scdown_old_samples/h5ad_converted/samplesheet_converted.csv\"\n",
    "\n",
    "# Load samplesheet\n",
    "df = pd.read_csv(samplesheet)\n",
    "\n",
    "all_good = True\n",
    "\n",
    "for i, row in df.iterrows():\n",
    "    sample = row['sample']\n",
    "    filtered_path = row['filtered']\n",
    "    unfiltered_path = row['unfiltered']\n",
    "\n",
    "    print(f\"\\nChecking {sample}:\")\n",
    "\n",
    "    adata_filtered = sc.read_h5ad(filtered_path)\n",
    "    adata_unfiltered = sc.read_h5ad(unfiltered_path)\n",
    "\n",
    "    filtered_barcodes = set(adata_filtered.obs_names)\n",
    "    unfiltered_barcodes = set(adata_unfiltered.obs_names)\n",
    "\n",
    "    # Check barcodes match\n",
    "    common_barcodes = filtered_barcodes & unfiltered_barcodes\n",
    "    missing_barcodes = filtered_barcodes - unfiltered_barcodes\n",
    "\n",
    "    if len(missing_barcodes) == 0:\n",
    "        print(f\"✅ All {len(filtered_barcodes)} filtered barcodes are present in the unfiltered dataset.\")\n",
    "    else:\n",
    "        all_good = False\n",
    "        print(f\"⚠️ Missing barcodes detected ({len(missing_barcodes)} barcodes missing):\")\n",
    "        print(list(missing_barcodes)[:5])  # print only first 5 missing barcodes if any issue\n",
    "\n",
    "    # Additional check: same genes/features\n",
    "    if list(adata_filtered.var_names) == list(adata_unfiltered.var_names):\n",
    "        print(f\"✅ Gene names match ({len(adata_filtered.var_names)} genes).\")\n",
    "    else:\n",
    "        all_good = False\n",
    "        print(\"⚠️ Gene mismatch detected.\")\n",
    "\n",
    "if all_good:\n",
    "    print(\"\\n🎉 All files passed validation checks!\")\n",
    "else:\n",
    "    print(\"\\n❗️ Issues found in the validation. Please check logs above.\")"
   ]
  },
  {
   "cell_type": "code",
   "execution_count": 1,
   "id": "b64d8b68",
   "metadata": {},
   "outputs": [
    {
     "name": "stdout",
     "output_type": "stream",
     "text": [
      "Index(['S2A_S2A_AAACCCAAGAAGCCAC-1', 'S2A_S2A_AAACCCAAGACAGTCG-1',\n",
      "       'S2A_S2A_AAACCCAAGACGCCCT-1', 'S2A_S2A_AAACCCAAGAGTATAC-1',\n",
      "       'S2A_S2A_AAACCCAAGCCTTGAT-1'],\n",
      "      dtype='object')\n",
      "Index(['S2A_S2A_AAACCCAAGAAACACT-1', 'S2A_S2A_AAACCCAAGAAACCAT-1',\n",
      "       'S2A_S2A_AAACCCAAGAAACCCA-1', 'S2A_S2A_AAACCCAAGAAACCTG-1',\n",
      "       'S2A_S2A_AAACCCAAGAAACTAC-1'],\n",
      "      dtype='object')\n",
      "Common barcodes: 36671\n"
     ]
    }
   ],
   "source": [
    "import scanpy as sc\n",
    "\n",
    "filtered = sc.read_h5ad(\"/rds/general/user/pr422/ephemeral/NEXTFLOW/74/908c52ace4f7fe3cdbf9881caa84e3/S2A_filtered_unified.h5ad\")\n",
    "unfiltered = sc.read_h5ad(\"/rds/general/user/pr422/ephemeral/NEXTFLOW/78/49f5cb1b17ce8ff029fb70d5cafe1b/S2A_unfiltered_unified.h5ad\")\n",
    "\n",
    "print(filtered.obs_names[:5])\n",
    "print(unfiltered.obs_names[:5])\n",
    "print(\"Common barcodes:\", len(set(filtered.obs_names) & set(unfiltered.obs_names)))"
   ]
  },
  {
   "cell_type": "code",
   "execution_count": 4,
   "id": "02539b08",
   "metadata": {},
   "outputs": [
    {
     "name": "stdout",
     "output_type": "stream",
     "text": [
      "Index(['S9A_S9A_AAACCCAAGAAACACT-1', 'S9A_S9A_AAACCCAAGAAACCAT-1',\n",
      "       'S9A_S9A_AAACCCAAGAAACCCA-1', 'S9A_S9A_AAACCCAAGAAACCCG-1',\n",
      "       'S9A_S9A_AAACCCAAGAAACTAC-1'],\n",
      "      dtype='object')\n"
     ]
    }
   ],
   "source": [
    "import scanpy as sc\n",
    "adata = sc.read_h5ad(\"/rds/general/user/pr422/ephemeral/NEXTFLOW/c7/22a2f9a0b1ab40c25fd56b07222603/S9A_unfiltered_unified.h5ad\")\n",
    "print(adata.obs_names[:5])"
   ]
  },
  {
   "cell_type": "code",
   "execution_count": 3,
   "id": "985e85af",
   "metadata": {},
   "outputs": [
    {
     "data": {
      "text/plain": [
       "True"
      ]
     },
     "execution_count": 3,
     "metadata": {},
     "output_type": "execute_result"
    }
   ],
   "source": [
    "len(set(filtered.obs_names) & set(unfiltered.obs_names)) == len(filtered.obs_names)"
   ]
  },
  {
   "cell_type": "code",
   "execution_count": 2,
   "id": "f92097e1",
   "metadata": {},
   "outputs": [
    {
     "name": "stdout",
     "output_type": "stream",
     "text": [
      "Samplesheet written to: /rds/general/user/pr422/projects/puklandmarkproject/ephemeral/Parisa_scdownstream/scdownstream_final/input/samplesheet_h5_files.csv\n"
     ]
    }
   ],
   "source": [
    "# generating csv files from .h5 cellranger files\n",
    "\n",
    "import os\n",
    "import pandas as pd\n",
    "\n",
    "# Base path to all mapped samples\n",
    "base_dir = \"/rds/general/user/pr422/projects/puklandmarkproject/ephemeral/alex/mapping_outs\"\n",
    "\n",
    "# Collect all sample directories ending with \"_mapped\"\n",
    "sample_dirs = [d for d in os.listdir(base_dir) if d.endswith(\"_mapped\")]\n",
    "\n",
    "# List to hold sample information\n",
    "data = []\n",
    "\n",
    "for d in sorted(sample_dirs):\n",
    "    sample = d.replace(\"_mapped\", \"\")\n",
    "    filtered_path = os.path.join(base_dir, d, \"outs\", \"filtered_feature_bc_matrix.h5\")\n",
    "    raw_path = os.path.join(base_dir, d, \"outs\", \"raw_feature_bc_matrix.h5\")\n",
    "    \n",
    "    # Check both files exist\n",
    "    if os.path.exists(filtered_path) and os.path.exists(raw_path):\n",
    "        data.append({\n",
    "            \"sample\": sample,\n",
    "            \"filtered\": filtered_path,\n",
    "            \"unfiltered\": raw_path\n",
    "        })\n",
    "    else:\n",
    "        print(f\"WARNING: Missing files for {sample}\")\n",
    "\n",
    "# Save to CSV\n",
    "df = pd.DataFrame(data)\n",
    "output_csv = os.path.join(\"/rds/general/user/pr422/projects/puklandmarkproject/ephemeral/Parisa_scdownstream/scdownstream_final/input/samplesheet_h5_files.csv\")\n",
    "df.to_csv(output_csv, index=False)\n",
    "\n",
    "print(f\"Samplesheet written to: {output_csv}\")"
   ]
  },
  {
   "cell_type": "code",
   "execution_count": 5,
   "id": "937b26cb",
   "metadata": {},
   "outputs": [],
   "source": [
    "import os\n",
    "os.environ[\"NUMBA_CACHE_DIR\"] = \"/tmp/numba_cache\"\n",
    "os.environ[\"MPLCONFIGDIR\"] = \"/tmp/matplotlib\"\n",
    "\n",
    "import scanpy as sc"
   ]
  },
  {
   "cell_type": "code",
   "execution_count": 6,
   "id": "ced31502",
   "metadata": {},
   "outputs": [
    {
     "name": "stderr",
     "output_type": "stream",
     "text": [
      "/rds/general/user/pr422/home/anaconda3/envs/scanvi_new_env/lib/python3.10/site-packages/anndata/_core/anndata.py:1758: UserWarning: Variable names are not unique. To make them unique, call `.var_names_make_unique`.\n",
      "  utils.warn_names_duplicates(\"var\")\n",
      "/rds/general/user/pr422/home/anaconda3/envs/scanvi_new_env/lib/python3.10/site-packages/anndata/_core/anndata.py:1758: UserWarning: Variable names are not unique. To make them unique, call `.var_names_make_unique`.\n",
      "  utils.warn_names_duplicates(\"var\")\n",
      "/rds/general/user/pr422/home/anaconda3/envs/scanvi_new_env/lib/python3.10/site-packages/anndata/_core/anndata.py:1758: UserWarning: Variable names are not unique. To make them unique, call `.var_names_make_unique`.\n",
      "  utils.warn_names_duplicates(\"var\")\n",
      "/rds/general/user/pr422/home/anaconda3/envs/scanvi_new_env/lib/python3.10/site-packages/anndata/_core/anndata.py:1758: UserWarning: Variable names are not unique. To make them unique, call `.var_names_make_unique`.\n",
      "  utils.warn_names_duplicates(\"var\")\n"
     ]
    },
    {
     "name": "stdout",
     "output_type": "stream",
     "text": [
      "✅ S10A: barcodes match\n"
     ]
    },
    {
     "name": "stderr",
     "output_type": "stream",
     "text": [
      "/rds/general/user/pr422/home/anaconda3/envs/scanvi_new_env/lib/python3.10/site-packages/anndata/_core/anndata.py:1758: UserWarning: Variable names are not unique. To make them unique, call `.var_names_make_unique`.\n",
      "  utils.warn_names_duplicates(\"var\")\n",
      "/rds/general/user/pr422/home/anaconda3/envs/scanvi_new_env/lib/python3.10/site-packages/anndata/_core/anndata.py:1758: UserWarning: Variable names are not unique. To make them unique, call `.var_names_make_unique`.\n",
      "  utils.warn_names_duplicates(\"var\")\n",
      "/rds/general/user/pr422/home/anaconda3/envs/scanvi_new_env/lib/python3.10/site-packages/anndata/_core/anndata.py:1758: UserWarning: Variable names are not unique. To make them unique, call `.var_names_make_unique`.\n",
      "  utils.warn_names_duplicates(\"var\")\n",
      "/rds/general/user/pr422/home/anaconda3/envs/scanvi_new_env/lib/python3.10/site-packages/anndata/_core/anndata.py:1758: UserWarning: Variable names are not unique. To make them unique, call `.var_names_make_unique`.\n",
      "  utils.warn_names_duplicates(\"var\")\n"
     ]
    },
    {
     "name": "stdout",
     "output_type": "stream",
     "text": [
      "✅ S11A: barcodes match\n"
     ]
    },
    {
     "name": "stderr",
     "output_type": "stream",
     "text": [
      "/rds/general/user/pr422/home/anaconda3/envs/scanvi_new_env/lib/python3.10/site-packages/anndata/_core/anndata.py:1758: UserWarning: Variable names are not unique. To make them unique, call `.var_names_make_unique`.\n",
      "  utils.warn_names_duplicates(\"var\")\n",
      "/rds/general/user/pr422/home/anaconda3/envs/scanvi_new_env/lib/python3.10/site-packages/anndata/_core/anndata.py:1758: UserWarning: Variable names are not unique. To make them unique, call `.var_names_make_unique`.\n",
      "  utils.warn_names_duplicates(\"var\")\n",
      "/rds/general/user/pr422/home/anaconda3/envs/scanvi_new_env/lib/python3.10/site-packages/anndata/_core/anndata.py:1758: UserWarning: Variable names are not unique. To make them unique, call `.var_names_make_unique`.\n",
      "  utils.warn_names_duplicates(\"var\")\n",
      "/rds/general/user/pr422/home/anaconda3/envs/scanvi_new_env/lib/python3.10/site-packages/anndata/_core/anndata.py:1758: UserWarning: Variable names are not unique. To make them unique, call `.var_names_make_unique`.\n",
      "  utils.warn_names_duplicates(\"var\")\n"
     ]
    },
    {
     "name": "stdout",
     "output_type": "stream",
     "text": [
      "✅ S11B: barcodes match\n"
     ]
    },
    {
     "name": "stderr",
     "output_type": "stream",
     "text": [
      "/rds/general/user/pr422/home/anaconda3/envs/scanvi_new_env/lib/python3.10/site-packages/anndata/_core/anndata.py:1758: UserWarning: Variable names are not unique. To make them unique, call `.var_names_make_unique`.\n",
      "  utils.warn_names_duplicates(\"var\")\n",
      "/rds/general/user/pr422/home/anaconda3/envs/scanvi_new_env/lib/python3.10/site-packages/anndata/_core/anndata.py:1758: UserWarning: Variable names are not unique. To make them unique, call `.var_names_make_unique`.\n",
      "  utils.warn_names_duplicates(\"var\")\n",
      "/rds/general/user/pr422/home/anaconda3/envs/scanvi_new_env/lib/python3.10/site-packages/anndata/_core/anndata.py:1758: UserWarning: Variable names are not unique. To make them unique, call `.var_names_make_unique`.\n",
      "  utils.warn_names_duplicates(\"var\")\n",
      "/rds/general/user/pr422/home/anaconda3/envs/scanvi_new_env/lib/python3.10/site-packages/anndata/_core/anndata.py:1758: UserWarning: Variable names are not unique. To make them unique, call `.var_names_make_unique`.\n",
      "  utils.warn_names_duplicates(\"var\")\n"
     ]
    },
    {
     "name": "stdout",
     "output_type": "stream",
     "text": [
      "✅ S12B: barcodes match\n"
     ]
    },
    {
     "name": "stderr",
     "output_type": "stream",
     "text": [
      "/rds/general/user/pr422/home/anaconda3/envs/scanvi_new_env/lib/python3.10/site-packages/anndata/_core/anndata.py:1758: UserWarning: Variable names are not unique. To make them unique, call `.var_names_make_unique`.\n",
      "  utils.warn_names_duplicates(\"var\")\n",
      "/rds/general/user/pr422/home/anaconda3/envs/scanvi_new_env/lib/python3.10/site-packages/anndata/_core/anndata.py:1758: UserWarning: Variable names are not unique. To make them unique, call `.var_names_make_unique`.\n",
      "  utils.warn_names_duplicates(\"var\")\n",
      "/rds/general/user/pr422/home/anaconda3/envs/scanvi_new_env/lib/python3.10/site-packages/anndata/_core/anndata.py:1758: UserWarning: Variable names are not unique. To make them unique, call `.var_names_make_unique`.\n",
      "  utils.warn_names_duplicates(\"var\")\n",
      "/rds/general/user/pr422/home/anaconda3/envs/scanvi_new_env/lib/python3.10/site-packages/anndata/_core/anndata.py:1758: UserWarning: Variable names are not unique. To make them unique, call `.var_names_make_unique`.\n",
      "  utils.warn_names_duplicates(\"var\")\n"
     ]
    },
    {
     "name": "stdout",
     "output_type": "stream",
     "text": [
      "✅ S13A: barcodes match\n"
     ]
    },
    {
     "name": "stderr",
     "output_type": "stream",
     "text": [
      "/rds/general/user/pr422/home/anaconda3/envs/scanvi_new_env/lib/python3.10/site-packages/anndata/_core/anndata.py:1758: UserWarning: Variable names are not unique. To make them unique, call `.var_names_make_unique`.\n",
      "  utils.warn_names_duplicates(\"var\")\n",
      "/rds/general/user/pr422/home/anaconda3/envs/scanvi_new_env/lib/python3.10/site-packages/anndata/_core/anndata.py:1758: UserWarning: Variable names are not unique. To make them unique, call `.var_names_make_unique`.\n",
      "  utils.warn_names_duplicates(\"var\")\n",
      "/rds/general/user/pr422/home/anaconda3/envs/scanvi_new_env/lib/python3.10/site-packages/anndata/_core/anndata.py:1758: UserWarning: Variable names are not unique. To make them unique, call `.var_names_make_unique`.\n",
      "  utils.warn_names_duplicates(\"var\")\n",
      "/rds/general/user/pr422/home/anaconda3/envs/scanvi_new_env/lib/python3.10/site-packages/anndata/_core/anndata.py:1758: UserWarning: Variable names are not unique. To make them unique, call `.var_names_make_unique`.\n",
      "  utils.warn_names_duplicates(\"var\")\n"
     ]
    },
    {
     "name": "stdout",
     "output_type": "stream",
     "text": [
      "✅ S13B: barcodes match\n"
     ]
    },
    {
     "name": "stderr",
     "output_type": "stream",
     "text": [
      "/rds/general/user/pr422/home/anaconda3/envs/scanvi_new_env/lib/python3.10/site-packages/anndata/_core/anndata.py:1758: UserWarning: Variable names are not unique. To make them unique, call `.var_names_make_unique`.\n",
      "  utils.warn_names_duplicates(\"var\")\n",
      "/rds/general/user/pr422/home/anaconda3/envs/scanvi_new_env/lib/python3.10/site-packages/anndata/_core/anndata.py:1758: UserWarning: Variable names are not unique. To make them unique, call `.var_names_make_unique`.\n",
      "  utils.warn_names_duplicates(\"var\")\n",
      "/rds/general/user/pr422/home/anaconda3/envs/scanvi_new_env/lib/python3.10/site-packages/anndata/_core/anndata.py:1758: UserWarning: Variable names are not unique. To make them unique, call `.var_names_make_unique`.\n",
      "  utils.warn_names_duplicates(\"var\")\n",
      "/rds/general/user/pr422/home/anaconda3/envs/scanvi_new_env/lib/python3.10/site-packages/anndata/_core/anndata.py:1758: UserWarning: Variable names are not unique. To make them unique, call `.var_names_make_unique`.\n",
      "  utils.warn_names_duplicates(\"var\")\n"
     ]
    },
    {
     "name": "stdout",
     "output_type": "stream",
     "text": [
      "✅ S14A: barcodes match\n"
     ]
    },
    {
     "name": "stderr",
     "output_type": "stream",
     "text": [
      "/rds/general/user/pr422/home/anaconda3/envs/scanvi_new_env/lib/python3.10/site-packages/anndata/_core/anndata.py:1758: UserWarning: Variable names are not unique. To make them unique, call `.var_names_make_unique`.\n",
      "  utils.warn_names_duplicates(\"var\")\n",
      "/rds/general/user/pr422/home/anaconda3/envs/scanvi_new_env/lib/python3.10/site-packages/anndata/_core/anndata.py:1758: UserWarning: Variable names are not unique. To make them unique, call `.var_names_make_unique`.\n",
      "  utils.warn_names_duplicates(\"var\")\n",
      "/rds/general/user/pr422/home/anaconda3/envs/scanvi_new_env/lib/python3.10/site-packages/anndata/_core/anndata.py:1758: UserWarning: Variable names are not unique. To make them unique, call `.var_names_make_unique`.\n",
      "  utils.warn_names_duplicates(\"var\")\n",
      "/rds/general/user/pr422/home/anaconda3/envs/scanvi_new_env/lib/python3.10/site-packages/anndata/_core/anndata.py:1758: UserWarning: Variable names are not unique. To make them unique, call `.var_names_make_unique`.\n",
      "  utils.warn_names_duplicates(\"var\")\n"
     ]
    },
    {
     "name": "stdout",
     "output_type": "stream",
     "text": [
      "✅ S14B: barcodes match\n"
     ]
    },
    {
     "name": "stderr",
     "output_type": "stream",
     "text": [
      "/rds/general/user/pr422/home/anaconda3/envs/scanvi_new_env/lib/python3.10/site-packages/anndata/_core/anndata.py:1758: UserWarning: Variable names are not unique. To make them unique, call `.var_names_make_unique`.\n",
      "  utils.warn_names_duplicates(\"var\")\n",
      "/rds/general/user/pr422/home/anaconda3/envs/scanvi_new_env/lib/python3.10/site-packages/anndata/_core/anndata.py:1758: UserWarning: Variable names are not unique. To make them unique, call `.var_names_make_unique`.\n",
      "  utils.warn_names_duplicates(\"var\")\n",
      "/rds/general/user/pr422/home/anaconda3/envs/scanvi_new_env/lib/python3.10/site-packages/anndata/_core/anndata.py:1758: UserWarning: Variable names are not unique. To make them unique, call `.var_names_make_unique`.\n",
      "  utils.warn_names_duplicates(\"var\")\n",
      "/rds/general/user/pr422/home/anaconda3/envs/scanvi_new_env/lib/python3.10/site-packages/anndata/_core/anndata.py:1758: UserWarning: Variable names are not unique. To make them unique, call `.var_names_make_unique`.\n",
      "  utils.warn_names_duplicates(\"var\")\n"
     ]
    },
    {
     "name": "stdout",
     "output_type": "stream",
     "text": [
      "✅ S15A: barcodes match\n"
     ]
    },
    {
     "name": "stderr",
     "output_type": "stream",
     "text": [
      "/rds/general/user/pr422/home/anaconda3/envs/scanvi_new_env/lib/python3.10/site-packages/anndata/_core/anndata.py:1758: UserWarning: Variable names are not unique. To make them unique, call `.var_names_make_unique`.\n",
      "  utils.warn_names_duplicates(\"var\")\n",
      "/rds/general/user/pr422/home/anaconda3/envs/scanvi_new_env/lib/python3.10/site-packages/anndata/_core/anndata.py:1758: UserWarning: Variable names are not unique. To make them unique, call `.var_names_make_unique`.\n",
      "  utils.warn_names_duplicates(\"var\")\n",
      "/rds/general/user/pr422/home/anaconda3/envs/scanvi_new_env/lib/python3.10/site-packages/anndata/_core/anndata.py:1758: UserWarning: Variable names are not unique. To make them unique, call `.var_names_make_unique`.\n",
      "  utils.warn_names_duplicates(\"var\")\n",
      "/rds/general/user/pr422/home/anaconda3/envs/scanvi_new_env/lib/python3.10/site-packages/anndata/_core/anndata.py:1758: UserWarning: Variable names are not unique. To make them unique, call `.var_names_make_unique`.\n",
      "  utils.warn_names_duplicates(\"var\")\n"
     ]
    },
    {
     "name": "stdout",
     "output_type": "stream",
     "text": [
      "✅ S16A: barcodes match\n"
     ]
    },
    {
     "name": "stderr",
     "output_type": "stream",
     "text": [
      "/rds/general/user/pr422/home/anaconda3/envs/scanvi_new_env/lib/python3.10/site-packages/anndata/_core/anndata.py:1758: UserWarning: Variable names are not unique. To make them unique, call `.var_names_make_unique`.\n",
      "  utils.warn_names_duplicates(\"var\")\n",
      "/rds/general/user/pr422/home/anaconda3/envs/scanvi_new_env/lib/python3.10/site-packages/anndata/_core/anndata.py:1758: UserWarning: Variable names are not unique. To make them unique, call `.var_names_make_unique`.\n",
      "  utils.warn_names_duplicates(\"var\")\n",
      "/rds/general/user/pr422/home/anaconda3/envs/scanvi_new_env/lib/python3.10/site-packages/anndata/_core/anndata.py:1758: UserWarning: Variable names are not unique. To make them unique, call `.var_names_make_unique`.\n",
      "  utils.warn_names_duplicates(\"var\")\n",
      "/rds/general/user/pr422/home/anaconda3/envs/scanvi_new_env/lib/python3.10/site-packages/anndata/_core/anndata.py:1758: UserWarning: Variable names are not unique. To make them unique, call `.var_names_make_unique`.\n",
      "  utils.warn_names_duplicates(\"var\")\n"
     ]
    },
    {
     "name": "stdout",
     "output_type": "stream",
     "text": [
      "✅ S16B: barcodes match\n"
     ]
    },
    {
     "name": "stderr",
     "output_type": "stream",
     "text": [
      "/rds/general/user/pr422/home/anaconda3/envs/scanvi_new_env/lib/python3.10/site-packages/anndata/_core/anndata.py:1758: UserWarning: Variable names are not unique. To make them unique, call `.var_names_make_unique`.\n",
      "  utils.warn_names_duplicates(\"var\")\n",
      "/rds/general/user/pr422/home/anaconda3/envs/scanvi_new_env/lib/python3.10/site-packages/anndata/_core/anndata.py:1758: UserWarning: Variable names are not unique. To make them unique, call `.var_names_make_unique`.\n",
      "  utils.warn_names_duplicates(\"var\")\n",
      "/rds/general/user/pr422/home/anaconda3/envs/scanvi_new_env/lib/python3.10/site-packages/anndata/_core/anndata.py:1758: UserWarning: Variable names are not unique. To make them unique, call `.var_names_make_unique`.\n",
      "  utils.warn_names_duplicates(\"var\")\n",
      "/rds/general/user/pr422/home/anaconda3/envs/scanvi_new_env/lib/python3.10/site-packages/anndata/_core/anndata.py:1758: UserWarning: Variable names are not unique. To make them unique, call `.var_names_make_unique`.\n",
      "  utils.warn_names_duplicates(\"var\")\n"
     ]
    },
    {
     "name": "stdout",
     "output_type": "stream",
     "text": [
      "✅ S17B: barcodes match\n"
     ]
    },
    {
     "name": "stderr",
     "output_type": "stream",
     "text": [
      "/rds/general/user/pr422/home/anaconda3/envs/scanvi_new_env/lib/python3.10/site-packages/anndata/_core/anndata.py:1758: UserWarning: Variable names are not unique. To make them unique, call `.var_names_make_unique`.\n",
      "  utils.warn_names_duplicates(\"var\")\n",
      "/rds/general/user/pr422/home/anaconda3/envs/scanvi_new_env/lib/python3.10/site-packages/anndata/_core/anndata.py:1758: UserWarning: Variable names are not unique. To make them unique, call `.var_names_make_unique`.\n",
      "  utils.warn_names_duplicates(\"var\")\n",
      "/rds/general/user/pr422/home/anaconda3/envs/scanvi_new_env/lib/python3.10/site-packages/anndata/_core/anndata.py:1758: UserWarning: Variable names are not unique. To make them unique, call `.var_names_make_unique`.\n",
      "  utils.warn_names_duplicates(\"var\")\n",
      "/rds/general/user/pr422/home/anaconda3/envs/scanvi_new_env/lib/python3.10/site-packages/anndata/_core/anndata.py:1758: UserWarning: Variable names are not unique. To make them unique, call `.var_names_make_unique`.\n",
      "  utils.warn_names_duplicates(\"var\")\n"
     ]
    },
    {
     "name": "stdout",
     "output_type": "stream",
     "text": [
      "✅ S18B: barcodes match\n"
     ]
    },
    {
     "name": "stderr",
     "output_type": "stream",
     "text": [
      "/rds/general/user/pr422/home/anaconda3/envs/scanvi_new_env/lib/python3.10/site-packages/anndata/_core/anndata.py:1758: UserWarning: Variable names are not unique. To make them unique, call `.var_names_make_unique`.\n",
      "  utils.warn_names_duplicates(\"var\")\n",
      "/rds/general/user/pr422/home/anaconda3/envs/scanvi_new_env/lib/python3.10/site-packages/anndata/_core/anndata.py:1758: UserWarning: Variable names are not unique. To make them unique, call `.var_names_make_unique`.\n",
      "  utils.warn_names_duplicates(\"var\")\n",
      "/rds/general/user/pr422/home/anaconda3/envs/scanvi_new_env/lib/python3.10/site-packages/anndata/_core/anndata.py:1758: UserWarning: Variable names are not unique. To make them unique, call `.var_names_make_unique`.\n",
      "  utils.warn_names_duplicates(\"var\")\n",
      "/rds/general/user/pr422/home/anaconda3/envs/scanvi_new_env/lib/python3.10/site-packages/anndata/_core/anndata.py:1758: UserWarning: Variable names are not unique. To make them unique, call `.var_names_make_unique`.\n",
      "  utils.warn_names_duplicates(\"var\")\n"
     ]
    },
    {
     "name": "stdout",
     "output_type": "stream",
     "text": [
      "✅ S19A: barcodes match\n"
     ]
    },
    {
     "name": "stderr",
     "output_type": "stream",
     "text": [
      "/rds/general/user/pr422/home/anaconda3/envs/scanvi_new_env/lib/python3.10/site-packages/anndata/_core/anndata.py:1758: UserWarning: Variable names are not unique. To make them unique, call `.var_names_make_unique`.\n",
      "  utils.warn_names_duplicates(\"var\")\n",
      "/rds/general/user/pr422/home/anaconda3/envs/scanvi_new_env/lib/python3.10/site-packages/anndata/_core/anndata.py:1758: UserWarning: Variable names are not unique. To make them unique, call `.var_names_make_unique`.\n",
      "  utils.warn_names_duplicates(\"var\")\n",
      "/rds/general/user/pr422/home/anaconda3/envs/scanvi_new_env/lib/python3.10/site-packages/anndata/_core/anndata.py:1758: UserWarning: Variable names are not unique. To make them unique, call `.var_names_make_unique`.\n",
      "  utils.warn_names_duplicates(\"var\")\n",
      "/rds/general/user/pr422/home/anaconda3/envs/scanvi_new_env/lib/python3.10/site-packages/anndata/_core/anndata.py:1758: UserWarning: Variable names are not unique. To make them unique, call `.var_names_make_unique`.\n",
      "  utils.warn_names_duplicates(\"var\")\n"
     ]
    },
    {
     "name": "stdout",
     "output_type": "stream",
     "text": [
      "✅ S19B: barcodes match\n"
     ]
    },
    {
     "name": "stderr",
     "output_type": "stream",
     "text": [
      "/rds/general/user/pr422/home/anaconda3/envs/scanvi_new_env/lib/python3.10/site-packages/anndata/_core/anndata.py:1758: UserWarning: Variable names are not unique. To make them unique, call `.var_names_make_unique`.\n",
      "  utils.warn_names_duplicates(\"var\")\n",
      "/rds/general/user/pr422/home/anaconda3/envs/scanvi_new_env/lib/python3.10/site-packages/anndata/_core/anndata.py:1758: UserWarning: Variable names are not unique. To make them unique, call `.var_names_make_unique`.\n",
      "  utils.warn_names_duplicates(\"var\")\n",
      "/rds/general/user/pr422/home/anaconda3/envs/scanvi_new_env/lib/python3.10/site-packages/anndata/_core/anndata.py:1758: UserWarning: Variable names are not unique. To make them unique, call `.var_names_make_unique`.\n",
      "  utils.warn_names_duplicates(\"var\")\n",
      "/rds/general/user/pr422/home/anaconda3/envs/scanvi_new_env/lib/python3.10/site-packages/anndata/_core/anndata.py:1758: UserWarning: Variable names are not unique. To make them unique, call `.var_names_make_unique`.\n",
      "  utils.warn_names_duplicates(\"var\")\n"
     ]
    },
    {
     "name": "stdout",
     "output_type": "stream",
     "text": [
      "✅ S1A: barcodes match\n"
     ]
    },
    {
     "name": "stderr",
     "output_type": "stream",
     "text": [
      "/rds/general/user/pr422/home/anaconda3/envs/scanvi_new_env/lib/python3.10/site-packages/anndata/_core/anndata.py:1758: UserWarning: Variable names are not unique. To make them unique, call `.var_names_make_unique`.\n",
      "  utils.warn_names_duplicates(\"var\")\n",
      "/rds/general/user/pr422/home/anaconda3/envs/scanvi_new_env/lib/python3.10/site-packages/anndata/_core/anndata.py:1758: UserWarning: Variable names are not unique. To make them unique, call `.var_names_make_unique`.\n",
      "  utils.warn_names_duplicates(\"var\")\n",
      "/rds/general/user/pr422/home/anaconda3/envs/scanvi_new_env/lib/python3.10/site-packages/anndata/_core/anndata.py:1758: UserWarning: Variable names are not unique. To make them unique, call `.var_names_make_unique`.\n",
      "  utils.warn_names_duplicates(\"var\")\n",
      "/rds/general/user/pr422/home/anaconda3/envs/scanvi_new_env/lib/python3.10/site-packages/anndata/_core/anndata.py:1758: UserWarning: Variable names are not unique. To make them unique, call `.var_names_make_unique`.\n",
      "  utils.warn_names_duplicates(\"var\")\n"
     ]
    },
    {
     "name": "stdout",
     "output_type": "stream",
     "text": [
      "✅ S1B: barcodes match\n"
     ]
    },
    {
     "name": "stderr",
     "output_type": "stream",
     "text": [
      "/rds/general/user/pr422/home/anaconda3/envs/scanvi_new_env/lib/python3.10/site-packages/anndata/_core/anndata.py:1758: UserWarning: Variable names are not unique. To make them unique, call `.var_names_make_unique`.\n",
      "  utils.warn_names_duplicates(\"var\")\n",
      "/rds/general/user/pr422/home/anaconda3/envs/scanvi_new_env/lib/python3.10/site-packages/anndata/_core/anndata.py:1758: UserWarning: Variable names are not unique. To make them unique, call `.var_names_make_unique`.\n",
      "  utils.warn_names_duplicates(\"var\")\n",
      "/rds/general/user/pr422/home/anaconda3/envs/scanvi_new_env/lib/python3.10/site-packages/anndata/_core/anndata.py:1758: UserWarning: Variable names are not unique. To make them unique, call `.var_names_make_unique`.\n",
      "  utils.warn_names_duplicates(\"var\")\n",
      "/rds/general/user/pr422/home/anaconda3/envs/scanvi_new_env/lib/python3.10/site-packages/anndata/_core/anndata.py:1758: UserWarning: Variable names are not unique. To make them unique, call `.var_names_make_unique`.\n",
      "  utils.warn_names_duplicates(\"var\")\n"
     ]
    },
    {
     "name": "stdout",
     "output_type": "stream",
     "text": [
      "✅ S2A: barcodes match\n"
     ]
    },
    {
     "name": "stderr",
     "output_type": "stream",
     "text": [
      "/rds/general/user/pr422/home/anaconda3/envs/scanvi_new_env/lib/python3.10/site-packages/anndata/_core/anndata.py:1758: UserWarning: Variable names are not unique. To make them unique, call `.var_names_make_unique`.\n",
      "  utils.warn_names_duplicates(\"var\")\n",
      "/rds/general/user/pr422/home/anaconda3/envs/scanvi_new_env/lib/python3.10/site-packages/anndata/_core/anndata.py:1758: UserWarning: Variable names are not unique. To make them unique, call `.var_names_make_unique`.\n",
      "  utils.warn_names_duplicates(\"var\")\n",
      "/rds/general/user/pr422/home/anaconda3/envs/scanvi_new_env/lib/python3.10/site-packages/anndata/_core/anndata.py:1758: UserWarning: Variable names are not unique. To make them unique, call `.var_names_make_unique`.\n",
      "  utils.warn_names_duplicates(\"var\")\n",
      "/rds/general/user/pr422/home/anaconda3/envs/scanvi_new_env/lib/python3.10/site-packages/anndata/_core/anndata.py:1758: UserWarning: Variable names are not unique. To make them unique, call `.var_names_make_unique`.\n",
      "  utils.warn_names_duplicates(\"var\")\n"
     ]
    },
    {
     "name": "stdout",
     "output_type": "stream",
     "text": [
      "✅ S2B: barcodes match\n"
     ]
    },
    {
     "name": "stderr",
     "output_type": "stream",
     "text": [
      "/rds/general/user/pr422/home/anaconda3/envs/scanvi_new_env/lib/python3.10/site-packages/anndata/_core/anndata.py:1758: UserWarning: Variable names are not unique. To make them unique, call `.var_names_make_unique`.\n",
      "  utils.warn_names_duplicates(\"var\")\n",
      "/rds/general/user/pr422/home/anaconda3/envs/scanvi_new_env/lib/python3.10/site-packages/anndata/_core/anndata.py:1758: UserWarning: Variable names are not unique. To make them unique, call `.var_names_make_unique`.\n",
      "  utils.warn_names_duplicates(\"var\")\n",
      "/rds/general/user/pr422/home/anaconda3/envs/scanvi_new_env/lib/python3.10/site-packages/anndata/_core/anndata.py:1758: UserWarning: Variable names are not unique. To make them unique, call `.var_names_make_unique`.\n",
      "  utils.warn_names_duplicates(\"var\")\n",
      "/rds/general/user/pr422/home/anaconda3/envs/scanvi_new_env/lib/python3.10/site-packages/anndata/_core/anndata.py:1758: UserWarning: Variable names are not unique. To make them unique, call `.var_names_make_unique`.\n",
      "  utils.warn_names_duplicates(\"var\")\n"
     ]
    },
    {
     "name": "stdout",
     "output_type": "stream",
     "text": [
      "✅ S3A: barcodes match\n"
     ]
    },
    {
     "name": "stderr",
     "output_type": "stream",
     "text": [
      "/rds/general/user/pr422/home/anaconda3/envs/scanvi_new_env/lib/python3.10/site-packages/anndata/_core/anndata.py:1758: UserWarning: Variable names are not unique. To make them unique, call `.var_names_make_unique`.\n",
      "  utils.warn_names_duplicates(\"var\")\n",
      "/rds/general/user/pr422/home/anaconda3/envs/scanvi_new_env/lib/python3.10/site-packages/anndata/_core/anndata.py:1758: UserWarning: Variable names are not unique. To make them unique, call `.var_names_make_unique`.\n",
      "  utils.warn_names_duplicates(\"var\")\n",
      "/rds/general/user/pr422/home/anaconda3/envs/scanvi_new_env/lib/python3.10/site-packages/anndata/_core/anndata.py:1758: UserWarning: Variable names are not unique. To make them unique, call `.var_names_make_unique`.\n",
      "  utils.warn_names_duplicates(\"var\")\n",
      "/rds/general/user/pr422/home/anaconda3/envs/scanvi_new_env/lib/python3.10/site-packages/anndata/_core/anndata.py:1758: UserWarning: Variable names are not unique. To make them unique, call `.var_names_make_unique`.\n",
      "  utils.warn_names_duplicates(\"var\")\n"
     ]
    },
    {
     "name": "stdout",
     "output_type": "stream",
     "text": [
      "✅ S4A: barcodes match\n"
     ]
    },
    {
     "name": "stderr",
     "output_type": "stream",
     "text": [
      "/rds/general/user/pr422/home/anaconda3/envs/scanvi_new_env/lib/python3.10/site-packages/anndata/_core/anndata.py:1758: UserWarning: Variable names are not unique. To make them unique, call `.var_names_make_unique`.\n",
      "  utils.warn_names_duplicates(\"var\")\n",
      "/rds/general/user/pr422/home/anaconda3/envs/scanvi_new_env/lib/python3.10/site-packages/anndata/_core/anndata.py:1758: UserWarning: Variable names are not unique. To make them unique, call `.var_names_make_unique`.\n",
      "  utils.warn_names_duplicates(\"var\")\n",
      "/rds/general/user/pr422/home/anaconda3/envs/scanvi_new_env/lib/python3.10/site-packages/anndata/_core/anndata.py:1758: UserWarning: Variable names are not unique. To make them unique, call `.var_names_make_unique`.\n",
      "  utils.warn_names_duplicates(\"var\")\n",
      "/rds/general/user/pr422/home/anaconda3/envs/scanvi_new_env/lib/python3.10/site-packages/anndata/_core/anndata.py:1758: UserWarning: Variable names are not unique. To make them unique, call `.var_names_make_unique`.\n",
      "  utils.warn_names_duplicates(\"var\")\n"
     ]
    },
    {
     "name": "stdout",
     "output_type": "stream",
     "text": [
      "✅ S4B: barcodes match\n"
     ]
    },
    {
     "name": "stderr",
     "output_type": "stream",
     "text": [
      "/rds/general/user/pr422/home/anaconda3/envs/scanvi_new_env/lib/python3.10/site-packages/anndata/_core/anndata.py:1758: UserWarning: Variable names are not unique. To make them unique, call `.var_names_make_unique`.\n",
      "  utils.warn_names_duplicates(\"var\")\n",
      "/rds/general/user/pr422/home/anaconda3/envs/scanvi_new_env/lib/python3.10/site-packages/anndata/_core/anndata.py:1758: UserWarning: Variable names are not unique. To make them unique, call `.var_names_make_unique`.\n",
      "  utils.warn_names_duplicates(\"var\")\n",
      "/rds/general/user/pr422/home/anaconda3/envs/scanvi_new_env/lib/python3.10/site-packages/anndata/_core/anndata.py:1758: UserWarning: Variable names are not unique. To make them unique, call `.var_names_make_unique`.\n",
      "  utils.warn_names_duplicates(\"var\")\n",
      "/rds/general/user/pr422/home/anaconda3/envs/scanvi_new_env/lib/python3.10/site-packages/anndata/_core/anndata.py:1758: UserWarning: Variable names are not unique. To make them unique, call `.var_names_make_unique`.\n",
      "  utils.warn_names_duplicates(\"var\")\n"
     ]
    },
    {
     "name": "stdout",
     "output_type": "stream",
     "text": [
      "✅ S5A: barcodes match\n"
     ]
    },
    {
     "name": "stderr",
     "output_type": "stream",
     "text": [
      "/rds/general/user/pr422/home/anaconda3/envs/scanvi_new_env/lib/python3.10/site-packages/anndata/_core/anndata.py:1758: UserWarning: Variable names are not unique. To make them unique, call `.var_names_make_unique`.\n",
      "  utils.warn_names_duplicates(\"var\")\n",
      "/rds/general/user/pr422/home/anaconda3/envs/scanvi_new_env/lib/python3.10/site-packages/anndata/_core/anndata.py:1758: UserWarning: Variable names are not unique. To make them unique, call `.var_names_make_unique`.\n",
      "  utils.warn_names_duplicates(\"var\")\n",
      "/rds/general/user/pr422/home/anaconda3/envs/scanvi_new_env/lib/python3.10/site-packages/anndata/_core/anndata.py:1758: UserWarning: Variable names are not unique. To make them unique, call `.var_names_make_unique`.\n",
      "  utils.warn_names_duplicates(\"var\")\n",
      "/rds/general/user/pr422/home/anaconda3/envs/scanvi_new_env/lib/python3.10/site-packages/anndata/_core/anndata.py:1758: UserWarning: Variable names are not unique. To make them unique, call `.var_names_make_unique`.\n",
      "  utils.warn_names_duplicates(\"var\")\n"
     ]
    },
    {
     "name": "stdout",
     "output_type": "stream",
     "text": [
      "✅ S5B: barcodes match\n"
     ]
    },
    {
     "name": "stderr",
     "output_type": "stream",
     "text": [
      "/rds/general/user/pr422/home/anaconda3/envs/scanvi_new_env/lib/python3.10/site-packages/anndata/_core/anndata.py:1758: UserWarning: Variable names are not unique. To make them unique, call `.var_names_make_unique`.\n",
      "  utils.warn_names_duplicates(\"var\")\n",
      "/rds/general/user/pr422/home/anaconda3/envs/scanvi_new_env/lib/python3.10/site-packages/anndata/_core/anndata.py:1758: UserWarning: Variable names are not unique. To make them unique, call `.var_names_make_unique`.\n",
      "  utils.warn_names_duplicates(\"var\")\n",
      "/rds/general/user/pr422/home/anaconda3/envs/scanvi_new_env/lib/python3.10/site-packages/anndata/_core/anndata.py:1758: UserWarning: Variable names are not unique. To make them unique, call `.var_names_make_unique`.\n",
      "  utils.warn_names_duplicates(\"var\")\n",
      "/rds/general/user/pr422/home/anaconda3/envs/scanvi_new_env/lib/python3.10/site-packages/anndata/_core/anndata.py:1758: UserWarning: Variable names are not unique. To make them unique, call `.var_names_make_unique`.\n",
      "  utils.warn_names_duplicates(\"var\")\n"
     ]
    },
    {
     "name": "stdout",
     "output_type": "stream",
     "text": [
      "✅ S6A: barcodes match\n"
     ]
    },
    {
     "name": "stderr",
     "output_type": "stream",
     "text": [
      "/rds/general/user/pr422/home/anaconda3/envs/scanvi_new_env/lib/python3.10/site-packages/anndata/_core/anndata.py:1758: UserWarning: Variable names are not unique. To make them unique, call `.var_names_make_unique`.\n",
      "  utils.warn_names_duplicates(\"var\")\n",
      "/rds/general/user/pr422/home/anaconda3/envs/scanvi_new_env/lib/python3.10/site-packages/anndata/_core/anndata.py:1758: UserWarning: Variable names are not unique. To make them unique, call `.var_names_make_unique`.\n",
      "  utils.warn_names_duplicates(\"var\")\n",
      "/rds/general/user/pr422/home/anaconda3/envs/scanvi_new_env/lib/python3.10/site-packages/anndata/_core/anndata.py:1758: UserWarning: Variable names are not unique. To make them unique, call `.var_names_make_unique`.\n",
      "  utils.warn_names_duplicates(\"var\")\n",
      "/rds/general/user/pr422/home/anaconda3/envs/scanvi_new_env/lib/python3.10/site-packages/anndata/_core/anndata.py:1758: UserWarning: Variable names are not unique. To make them unique, call `.var_names_make_unique`.\n",
      "  utils.warn_names_duplicates(\"var\")\n"
     ]
    },
    {
     "name": "stdout",
     "output_type": "stream",
     "text": [
      "✅ S6B: barcodes match\n"
     ]
    },
    {
     "name": "stderr",
     "output_type": "stream",
     "text": [
      "/rds/general/user/pr422/home/anaconda3/envs/scanvi_new_env/lib/python3.10/site-packages/anndata/_core/anndata.py:1758: UserWarning: Variable names are not unique. To make them unique, call `.var_names_make_unique`.\n",
      "  utils.warn_names_duplicates(\"var\")\n",
      "/rds/general/user/pr422/home/anaconda3/envs/scanvi_new_env/lib/python3.10/site-packages/anndata/_core/anndata.py:1758: UserWarning: Variable names are not unique. To make them unique, call `.var_names_make_unique`.\n",
      "  utils.warn_names_duplicates(\"var\")\n",
      "/rds/general/user/pr422/home/anaconda3/envs/scanvi_new_env/lib/python3.10/site-packages/anndata/_core/anndata.py:1758: UserWarning: Variable names are not unique. To make them unique, call `.var_names_make_unique`.\n",
      "  utils.warn_names_duplicates(\"var\")\n",
      "/rds/general/user/pr422/home/anaconda3/envs/scanvi_new_env/lib/python3.10/site-packages/anndata/_core/anndata.py:1758: UserWarning: Variable names are not unique. To make them unique, call `.var_names_make_unique`.\n",
      "  utils.warn_names_duplicates(\"var\")\n"
     ]
    },
    {
     "name": "stdout",
     "output_type": "stream",
     "text": [
      "✅ S7A: barcodes match\n"
     ]
    },
    {
     "name": "stderr",
     "output_type": "stream",
     "text": [
      "/rds/general/user/pr422/home/anaconda3/envs/scanvi_new_env/lib/python3.10/site-packages/anndata/_core/anndata.py:1758: UserWarning: Variable names are not unique. To make them unique, call `.var_names_make_unique`.\n",
      "  utils.warn_names_duplicates(\"var\")\n",
      "/rds/general/user/pr422/home/anaconda3/envs/scanvi_new_env/lib/python3.10/site-packages/anndata/_core/anndata.py:1758: UserWarning: Variable names are not unique. To make them unique, call `.var_names_make_unique`.\n",
      "  utils.warn_names_duplicates(\"var\")\n",
      "/rds/general/user/pr422/home/anaconda3/envs/scanvi_new_env/lib/python3.10/site-packages/anndata/_core/anndata.py:1758: UserWarning: Variable names are not unique. To make them unique, call `.var_names_make_unique`.\n",
      "  utils.warn_names_duplicates(\"var\")\n",
      "/rds/general/user/pr422/home/anaconda3/envs/scanvi_new_env/lib/python3.10/site-packages/anndata/_core/anndata.py:1758: UserWarning: Variable names are not unique. To make them unique, call `.var_names_make_unique`.\n",
      "  utils.warn_names_duplicates(\"var\")\n"
     ]
    },
    {
     "name": "stdout",
     "output_type": "stream",
     "text": [
      "✅ S7B: barcodes match\n"
     ]
    },
    {
     "name": "stderr",
     "output_type": "stream",
     "text": [
      "/rds/general/user/pr422/home/anaconda3/envs/scanvi_new_env/lib/python3.10/site-packages/anndata/_core/anndata.py:1758: UserWarning: Variable names are not unique. To make them unique, call `.var_names_make_unique`.\n",
      "  utils.warn_names_duplicates(\"var\")\n",
      "/rds/general/user/pr422/home/anaconda3/envs/scanvi_new_env/lib/python3.10/site-packages/anndata/_core/anndata.py:1758: UserWarning: Variable names are not unique. To make them unique, call `.var_names_make_unique`.\n",
      "  utils.warn_names_duplicates(\"var\")\n",
      "/rds/general/user/pr422/home/anaconda3/envs/scanvi_new_env/lib/python3.10/site-packages/anndata/_core/anndata.py:1758: UserWarning: Variable names are not unique. To make them unique, call `.var_names_make_unique`.\n",
      "  utils.warn_names_duplicates(\"var\")\n",
      "/rds/general/user/pr422/home/anaconda3/envs/scanvi_new_env/lib/python3.10/site-packages/anndata/_core/anndata.py:1758: UserWarning: Variable names are not unique. To make them unique, call `.var_names_make_unique`.\n",
      "  utils.warn_names_duplicates(\"var\")\n"
     ]
    },
    {
     "name": "stdout",
     "output_type": "stream",
     "text": [
      "✅ S8A: barcodes match\n"
     ]
    },
    {
     "name": "stderr",
     "output_type": "stream",
     "text": [
      "/rds/general/user/pr422/home/anaconda3/envs/scanvi_new_env/lib/python3.10/site-packages/anndata/_core/anndata.py:1758: UserWarning: Variable names are not unique. To make them unique, call `.var_names_make_unique`.\n",
      "  utils.warn_names_duplicates(\"var\")\n",
      "/rds/general/user/pr422/home/anaconda3/envs/scanvi_new_env/lib/python3.10/site-packages/anndata/_core/anndata.py:1758: UserWarning: Variable names are not unique. To make them unique, call `.var_names_make_unique`.\n",
      "  utils.warn_names_duplicates(\"var\")\n",
      "/rds/general/user/pr422/home/anaconda3/envs/scanvi_new_env/lib/python3.10/site-packages/anndata/_core/anndata.py:1758: UserWarning: Variable names are not unique. To make them unique, call `.var_names_make_unique`.\n",
      "  utils.warn_names_duplicates(\"var\")\n",
      "/rds/general/user/pr422/home/anaconda3/envs/scanvi_new_env/lib/python3.10/site-packages/anndata/_core/anndata.py:1758: UserWarning: Variable names are not unique. To make them unique, call `.var_names_make_unique`.\n",
      "  utils.warn_names_duplicates(\"var\")\n"
     ]
    },
    {
     "name": "stdout",
     "output_type": "stream",
     "text": [
      "✅ S8B: barcodes match\n"
     ]
    },
    {
     "name": "stderr",
     "output_type": "stream",
     "text": [
      "/rds/general/user/pr422/home/anaconda3/envs/scanvi_new_env/lib/python3.10/site-packages/anndata/_core/anndata.py:1758: UserWarning: Variable names are not unique. To make them unique, call `.var_names_make_unique`.\n",
      "  utils.warn_names_duplicates(\"var\")\n",
      "/rds/general/user/pr422/home/anaconda3/envs/scanvi_new_env/lib/python3.10/site-packages/anndata/_core/anndata.py:1758: UserWarning: Variable names are not unique. To make them unique, call `.var_names_make_unique`.\n",
      "  utils.warn_names_duplicates(\"var\")\n",
      "/rds/general/user/pr422/home/anaconda3/envs/scanvi_new_env/lib/python3.10/site-packages/anndata/_core/anndata.py:1758: UserWarning: Variable names are not unique. To make them unique, call `.var_names_make_unique`.\n",
      "  utils.warn_names_duplicates(\"var\")\n",
      "/rds/general/user/pr422/home/anaconda3/envs/scanvi_new_env/lib/python3.10/site-packages/anndata/_core/anndata.py:1758: UserWarning: Variable names are not unique. To make them unique, call `.var_names_make_unique`.\n",
      "  utils.warn_names_duplicates(\"var\")\n"
     ]
    },
    {
     "name": "stdout",
     "output_type": "stream",
     "text": [
      "✅ S9A: barcodes match\n"
     ]
    },
    {
     "name": "stderr",
     "output_type": "stream",
     "text": [
      "/rds/general/user/pr422/home/anaconda3/envs/scanvi_new_env/lib/python3.10/site-packages/anndata/_core/anndata.py:1758: UserWarning: Variable names are not unique. To make them unique, call `.var_names_make_unique`.\n",
      "  utils.warn_names_duplicates(\"var\")\n",
      "/rds/general/user/pr422/home/anaconda3/envs/scanvi_new_env/lib/python3.10/site-packages/anndata/_core/anndata.py:1758: UserWarning: Variable names are not unique. To make them unique, call `.var_names_make_unique`.\n",
      "  utils.warn_names_duplicates(\"var\")\n",
      "/rds/general/user/pr422/home/anaconda3/envs/scanvi_new_env/lib/python3.10/site-packages/anndata/_core/anndata.py:1758: UserWarning: Variable names are not unique. To make them unique, call `.var_names_make_unique`.\n",
      "  utils.warn_names_duplicates(\"var\")\n",
      "/rds/general/user/pr422/home/anaconda3/envs/scanvi_new_env/lib/python3.10/site-packages/anndata/_core/anndata.py:1758: UserWarning: Variable names are not unique. To make them unique, call `.var_names_make_unique`.\n",
      "  utils.warn_names_duplicates(\"var\")\n"
     ]
    },
    {
     "name": "stdout",
     "output_type": "stream",
     "text": [
      "✅ S9B: barcodes match\n"
     ]
    }
   ],
   "source": [
    "# checking Barcodes Between Filtered and Raw Matrices\n",
    "\n",
    "import os\n",
    "import scanpy as sc\n",
    "\n",
    "base_dir = \"/rds/general/user/pr422/projects/puklandmarkproject/ephemeral/alex/mapping_outs\"\n",
    "sample_dirs = [d for d in os.listdir(base_dir) if d.endswith(\"_mapped\")]\n",
    "\n",
    "for sample_dir in sorted(sample_dirs):\n",
    "    sample = sample_dir.replace(\"_mapped\", \"\")\n",
    "    filtered_h5 = os.path.join(base_dir, sample_dir, \"outs\", \"filtered_feature_bc_matrix.h5\")\n",
    "    raw_h5 = os.path.join(base_dir, sample_dir, \"outs\", \"raw_feature_bc_matrix.h5\")\n",
    "\n",
    "    if not (os.path.exists(filtered_h5) and os.path.exists(raw_h5)):\n",
    "        print(f\"❌ Missing files for {sample}\")\n",
    "        continue\n",
    "\n",
    "    try:\n",
    "        adata_filtered = sc.read_10x_h5(filtered_h5)\n",
    "        adata_raw = sc.read_10x_h5(raw_h5)\n",
    "\n",
    "        filtered_barcodes = set(adata_filtered.obs_names)\n",
    "        raw_barcodes = set(adata_raw.obs_names)\n",
    "\n",
    "        if not filtered_barcodes.issubset(raw_barcodes):\n",
    "            print(f\"❌ Barcode mismatch in {sample}: {len(filtered_barcodes - raw_barcodes)} barcodes not in raw\")\n",
    "        else:\n",
    "            print(f\"✅ {sample}: barcodes match\")\n",
    "\n",
    "    except Exception as e:\n",
    "        print(f\"⚠️ Error reading {sample}: {e}\")"
   ]
  },
  {
   "cell_type": "code",
   "execution_count": 7,
   "id": "b1269503",
   "metadata": {},
   "outputs": [],
   "source": [
    "filtered_genes = set(adata_filtered.var_names)\n",
    "raw_genes = set(adata_raw.var_names)\n",
    "if filtered_genes != raw_genes:\n",
    "    print(f\"⚠️ Gene mismatch in {sample}\")\n"
   ]
  },
  {
   "cell_type": "code",
   "execution_count": null,
   "id": "cb1db33e",
   "metadata": {},
   "outputs": [],
   "source": []
  },
  {
   "cell_type": "code",
   "execution_count": 8,
   "id": "b4a2d5df",
   "metadata": {},
   "outputs": [
    {
     "name": "stdout",
     "output_type": "stream",
     "text": [
      "                          Unnamed: 0    label  n_counts  n_genes  \\\n",
      "0  S8A_S14_mapped_AAACCCAAGAGGGTAA-1  unknown    3079.0     1861   \n",
      "1  S8A_S14_mapped_AAACCCAAGCAAATGT-1  unknown    3949.0     2504   \n",
      "2  S8A_S14_mapped_AAACCCAAGCGTTGTT-1  unknown    1498.0     1205   \n",
      "3  S8A_S14_mapped_AAACCCAAGGATCATA-1  unknown    3147.0     2096   \n",
      "4  S8A_S14_mapped_AAACCCAAGGGTCAAC-1  unknown    4471.0     2537   \n",
      "\n",
      "   celltypist:Human_AdultAged_Hippocampus:conf           batch  \\\n",
      "0                                     0.999999  S8A_S14_mapped   \n",
      "1                                     1.000000  S8A_S14_mapped   \n",
      "2                                     0.999322  S8A_S14_mapped   \n",
      "3                                     0.999998  S8A_S14_mapped   \n",
      "4                                     0.896577  S8A_S14_mapped   \n",
      "\n",
      "   total_counts_mt sample_original  total_counts  \\\n",
      "0             13.0  S8A_S14_mapped        3079.0   \n",
      "1             52.0  S8A_S14_mapped        3949.0   \n",
      "2             10.0  S8A_S14_mapped        1498.0   \n",
      "3             50.0  S8A_S14_mapped        3147.0   \n",
      "4             17.0  S8A_S14_mapped        4471.0   \n",
      "\n",
      "  celltypist:Human_AdultAged_Hippocampus  n_genes_by_counts  pct_counts_mt  \\\n",
      "0                             Astrocytes               1861       0.422215   \n",
      "1                             Astrocytes               2504       1.316789   \n",
      "2                              Microglia               1205       0.667557   \n",
      "3                                   OPCs               2096       1.588815   \n",
      "4                                   mOli               2537       0.380228   \n",
      "\n",
      "           sample  scvi-global-0.5_leiden  scvi-unknown-0.5_leiden  \\\n",
      "0  S8A_S14_mapped                       2                        2   \n",
      "1  S8A_S14_mapped                       2                        2   \n",
      "2  S8A_S14_mapped                       3                        3   \n",
      "3  S8A_S14_mapped                       5                        5   \n",
      "4  S8A_S14_mapped                       0                        0   \n",
      "\n",
      "   scvi-global-1.0_leiden  scvi-unknown-1.0_leiden  \n",
      "0                       6                        6  \n",
      "1                       7                        7  \n",
      "2                       4                        4  \n",
      "3                      10                       10  \n",
      "4                       0                        0  \n"
     ]
    }
   ],
   "source": [
    "import pandas as pd\n",
    "\n",
    "# Load the metadata CSV file\n",
    "metadata = pd.read_csv(\"/rds/general/user/pr422/projects/puklandmarkproject/live/Users/Parisa/ephemeral_files/Parisa_scdownstream/output_full/run3_celltypist_new_model/finalized/merged_metadata.csv\")\n",
    "\n",
    "# Display the first few rows to understand the structure\n",
    "print(metadata.head())"
   ]
  },
  {
   "cell_type": "code",
   "execution_count": 9,
   "id": "33460993",
   "metadata": {},
   "outputs": [
    {
     "name": "stdout",
     "output_type": "stream",
     "text": [
      "Index(['Unnamed: 0', 'label', 'n_counts', 'n_genes',\n",
      "       'celltypist:Human_AdultAged_Hippocampus:conf', 'batch',\n",
      "       'total_counts_mt', 'sample_original', 'total_counts',\n",
      "       'celltypist:Human_AdultAged_Hippocampus', 'n_genes_by_counts',\n",
      "       'pct_counts_mt', 'sample', 'scvi-global-0.5_leiden',\n",
      "       'scvi-unknown-0.5_leiden', 'scvi-global-1.0_leiden',\n",
      "       'scvi-unknown-1.0_leiden'],\n",
      "      dtype='object')\n"
     ]
    }
   ],
   "source": [
    "print(metadata.columns)"
   ]
  },
  {
   "cell_type": "code",
   "execution_count": 10,
   "id": "23d8c108",
   "metadata": {},
   "outputs": [
    {
     "name": "stdout",
     "output_type": "stream",
     "text": [
      "sample\n",
      "S10A_S18_mapped    23599\n",
      "S11A_S19_mapped    25161\n",
      "S11B_S20_mapped    21620\n",
      "S12B_S21_mapped    23713\n",
      "S13A_S22_mapped    20064\n",
      "S13B_S23_mapped    29992\n",
      "S14A_S24_mapped    19360\n",
      "S14B_S25_mapped    23012\n",
      "S15A_S26_mapped    10253\n",
      "S16A_S27_mapped    31692\n",
      "S16B_S28_mapped    33244\n",
      "S17B_S29_mapped    32156\n",
      "S18B_S30_mapped    21010\n",
      "S19A_S31_mapped      150\n",
      "S19B_S32_mapped     7432\n",
      "S1A_S1_mapped      27095\n",
      "S1B_S2_mapped      27191\n",
      "S2A_S3_mapped      31390\n",
      "S2B_S4_mapped      28544\n",
      "S3A_S5_mapped      21518\n",
      "S4A_S6_mapped      25840\n",
      "S4B_S7_mapped      35475\n",
      "S5A_S8_mapped      20959\n",
      "S5B_S9_mapped      23634\n",
      "S6A_S10_mapped     28831\n",
      "S6B_S11_mapped     22753\n",
      "S7A_S12_mapped     33072\n",
      "S7B_S13_mapped     26684\n",
      "S8A_S14_mapped     25676\n",
      "S8B_S15_mapped     24982\n",
      "S9A_S16_mapped     22183\n",
      "S9B_S17_mapped     27721\n",
      "Name: count, dtype: int64\n"
     ]
    }
   ],
   "source": [
    "cell_counts = metadata['sample'].value_counts().sort_index()\n",
    "print(cell_counts)"
   ]
  },
  {
   "cell_type": "code",
   "execution_count": 17,
   "id": "20282c68",
   "metadata": {},
   "outputs": [
    {
     "data": {
      "image/png": "[encoded data removed]",
      "text/plain": [
       "<Figure size 1400x600 with 1 Axes>"
      ]
     },
     "metadata": {},
     "output_type": "display_data"
    }
   ],
   "source": [
    "import pandas as pd\n",
    "import matplotlib.pyplot as plt\n",
    "\n",
    "# Load the metadata\n",
    "metadata_path = \"/rds/general/user/pr422/projects/puklandmarkproject/live/Users/Parisa/ephemeral_files/Parisa_scdownstream/output_full/run3_celltypist_new_model/finalized/merged_metadata.csv\"\n",
    "df = pd.read_csv(metadata_path)\n",
    "\n",
    "# Count number of cells per sample\n",
    "cell_counts = df['sample'].value_counts().sort_index()\n",
    "\n",
    "# Plot\n",
    "plt.figure(figsize=(14, 6))\n",
    "bars = plt.bar(cell_counts.index, cell_counts.values)\n",
    "plt.xticks(rotation=90, ha='center')  # ensure center alignment\n",
    "plt.ylabel(\"Number of cells\")\n",
    "plt.xlabel(\"Sample pool\")\n",
    "plt.title(\"Number of cells per sample (from finalized metadata)\")\n",
    "plt.tight_layout()\n",
    "plt.show()"
   ]
  },
  {
   "cell_type": "code",
   "execution_count": 19,
   "id": "a9a38763",
   "metadata": {},
   "outputs": [
    {
     "data": {
      "text/plain": [
       "<Figure size 640x480 with 0 Axes>"
      ]
     },
     "metadata": {},
     "output_type": "display_data"
    }
   ],
   "source": [
    "plt.savefig(\"/rds/general/user/pr422/projects/puklandmarkproject/live/Users/Parisa/ephemeral_files/Parisa_scdownstream/output_full/run3_celltypist_new_model/finalized/cell_counts_per_sample.png\", dpi=300)  # You can also use .pdf or .svg\n",
    "\n",
    "plt.show()"
   ]
  },
  {
   "cell_type": "code",
   "execution_count": 21,
   "id": "40a144fd",
   "metadata": {},
   "outputs": [
    {
     "data": {
      "image/png": "[encoded data removed]",
      "text/plain": [
       "<Figure size 1400x600 with 1 Axes>"
      ]
     },
     "metadata": {},
     "output_type": "display_data"
    }
   ],
   "source": [
    "import matplotlib.pyplot as plt\n",
    "\n",
    "plt.figure(figsize=(14, 6))\n",
    "plt.bar(cell_counts.index, cell_counts.values)\n",
    "plt.xticks(rotation=90, ha='center')\n",
    "plt.ylabel(\"Number of Cells\")\n",
    "plt.xlabel(\"Sample\")\n",
    "plt.title(\"Number of Cells per Sample (from finalized metadata)\")\n",
    "plt.tight_layout()\n",
    "\n",
    "# Save as PNG and PDF\n",
    "plt.savefig(\"/rds/general/user/pr422/projects/puklandmarkproject/live/Users/Parisa/ephemeral_files/Parisa_scdownstream/output_full/run3_celltypist_new_model/finalized/cell_counts_per_sample.png\", dpi=300)\n",
    "plt.savefig(\"/rds/general/user/pr422/projects/puklandmarkproject/live/Users/Parisa/ephemeral_files/Parisa_scdownstream/output_full/run3_celltypist_new_model/finalized/cell_counts_per_sample.pdf\")  # <- PDF version\n",
    "\n",
    "plt.show()"
   ]
  },
  {
   "cell_type": "code",
   "execution_count": 43,
   "id": "89cba301",
   "metadata": {},
   "outputs": [
    {
     "name": "stderr",
     "output_type": "stream",
     "text": [
      "/rds/general/user/pr422/ephemeral/ipykernel_2661587/3167658013.py:27: UserWarning: set_ticklabels() should only be used with a fixed number of ticks, i.e. after set_ticks() or using a FixedLocator.\n",
      "  ax.set_xticklabels(ax.get_xticklabels(), rotation=90, fontsize=6)\n"
     ]
    },
    {
     "data": {
      "image/png": "[encoded data removed]",
      "text/plain": [
       "<Figure size 680x400 with 1 Axes>"
      ]
     },
     "metadata": {},
     "output_type": "display_data"
    }
   ],
   "source": [
    "# Alex script\n",
    "import pandas as pd\n",
    "import matplotlib.pyplot as plt\n",
    "import seaborn as sns\n",
    "\n",
    "# Load the metadata CSV\n",
    "metadata = pd.read_csv(\"/rds/general/user/pr422/projects/puklandmarkproject/live/Users/Parisa/ephemeral_files/Parisa_scdownstream/output_full/run3_celltypist_new_model/finalized/merged_metadata.csv\")  # Update the path as needed\n",
    "\n",
    "# Count cells per sample\n",
    "cell_counts = metadata['sample'].value_counts().sort_index()\n",
    "\n",
    "# Set up the figure size (in inches)\n",
    "fig, ax = plt.subplots(figsize=(6.8, 4))  # <7 inch width\n",
    "\n",
    "# Set seaborn style\n",
    "sns.set(style=\"whitegrid\", font_scale=0.7)  # ~7pt font\n",
    "\n",
    "# Create barplot\n",
    "bars = sns.barplot(x=cell_counts.index, y=cell_counts.values, color=\"steelblue\", edgecolor=\"black\", ax=ax)\n",
    "\n",
    "# Annotate bars with the cell count\n",
    "for i, val in enumerate(cell_counts.values):\n",
    "    ax.text(i, val + max(cell_counts.values) * 0.01, f'{val:,}', \n",
    "            ha='center', va='bottom', fontsize=6)\n",
    "\n",
    "# Rotate x-axis labels\n",
    "ax.set_xticklabels(ax.get_xticklabels(), rotation=90, fontsize=6)\n",
    "ax.set_ylabel(\"Number of Cells\", fontsize=7)\n",
    "ax.set_xlabel(\"Sample\", fontsize=7)\n",
    "ax.tick_params(axis='y', labelsize=6)\n",
    "\n",
    "# Tight layout for better spacing\n",
    "plt.tight_layout()\n",
    "plt.savefig(\"/rds/general/user/pr422/projects/puklandmarkproject/live/Users/Parisa/ephemeral_files/Parisa_scdownstream/output_full/run3_celltypist_new_model/finalized/cell_counts_per_sample.pdf\", format='pdf', dpi=300)\n",
    "plt.show() "
   ]
  },
  {
   "cell_type": "code",
   "execution_count": 40,
   "id": "9af92904",
   "metadata": {},
   "outputs": [
    {
     "data": {
      "image/png": "[encoded data removed]",
      "text/plain": [
       "<Figure size 300x250 with 1 Axes>"
      ]
     },
     "metadata": {},
     "output_type": "display_data"
    }
   ],
   "source": [
    "import pandas as pd\n",
    "import matplotlib.pyplot as plt\n",
    "\n",
    "# Load metadata\n",
    "metadata_path = \"/rds/general/user/pr422/projects/puklandmarkproject/live/Users/Parisa/ephemeral_files/Parisa_scdownstream/output_full/run3_celltypist_new_model/finalized/merged_metadata.csv\"\n",
    "metadata = pd.read_csv(metadata_path)\n",
    "\n",
    "# Count cells per sample\n",
    "cell_counts = metadata['sample'].value_counts().sort_index()\n",
    "\n",
    "# Create bar chart\n",
    "fig, ax = plt.subplots(figsize=(3, 2.5))  # match width=3, height=2.5 inches\n",
    "\n",
    "bars = ax.bar(cell_counts.index, cell_counts.values, color='skyblue', edgecolor='black', width=0.8)\n",
    "\n",
    "# Add count labels on top of bars\n",
    "for i, val in enumerate(cell_counts.values):\n",
    "    ax.text(i, val + max(cell_counts.values) * 0.01, f'{val:,}', \n",
    "            ha='center', va='bottom', fontsize=5)\n",
    "\n",
    "# Style adjustments to mimic ggplot theme_classic()\n",
    "ax.set_ylabel(\"Number of cells\", fontsize=7, fontweight='bold')\n",
    "ax.set_xticks(range(len(cell_counts)))\n",
    "ax.set_xticklabels(cell_counts.index, rotation=90, fontsize=6)\n",
    "ax.tick_params(axis='y', labelsize=6)\n",
    "ax.spines['top'].set_visible(False)\n",
    "ax.spines['right'].set_visible(False)\n",
    "ax.spines['left'].set_color('black')\n",
    "ax.spines['bottom'].set_color('black')\n",
    "ax.yaxis.label.set_color('black')\n",
    "\n",
    "# Tight layout and save\n",
    "plt.tight_layout()\n",
    "plt.savefig(\"/rds/general/user/pr422/projects/puklandmarkproject/live/Users/Parisa/ephemeral_files/Parisa_scdownstream/output_full/run3_celltypist_new_model/finalized/cell_counts_per_sample.pdf\", format='pdf', dpi=300)\n",
    "plt.show() "
   ]
  },
  {
   "cell_type": "code",
   "execution_count": null,
   "id": "a7d379ac",
   "metadata": {},
   "outputs": [
    {
     "data": {
      "text/plain": [
       "<Figure size 640x480 with 0 Axes>"
      ]
     },
     "metadata": {},
     "output_type": "display_data"
    }
   ],
   "source": [
    "plt.savefig(\"/rds/general/user/pr422/projects/puklandmarkproject/live/Users/Parisa/ephemeral_files/Parisa_scdownstream/output_full/run3_celltypist_new_model/finalized/cell_counts_per_sample.pdf\", format='pdf', dpi=300)"
   ]
  }
 ],
 "metadata": {
  "kernelspec": {
   "display_name": "scanvi_new_env",
   "language": "python",
   "name": "python3"
  },
  "language_info": {
   "codemirror_mode": {
    "name": "ipython",
    "version": 3
   },
   "file_extension": ".py",
   "mimetype": "text/x-python",
   "name": "python",
   "nbconvert_exporter": "python",
   "pygments_lexer": "ipython3",
   "version": "3.10.15"
  }
 },
 "nbformat": 4,
 "nbformat_minor": 5
}
